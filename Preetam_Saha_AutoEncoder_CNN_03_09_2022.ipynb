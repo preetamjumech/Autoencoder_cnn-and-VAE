{
  "nbformat": 4,
  "nbformat_minor": 0,
  "metadata": {
    "colab": {
      "provenance": [],
      "collapsed_sections": [],
      "authorship_tag": "ABX9TyPA4PzWXWqWMrZzzHoLVw4K",
      "include_colab_link": true
    },
    "kernelspec": {
      "name": "python3",
      "display_name": "Python 3"
    },
    "language_info": {
      "name": "python"
    },
    "accelerator": "GPU"
  },
  "cells": [
    {
      "cell_type": "markdown",
      "metadata": {
        "id": "view-in-github",
        "colab_type": "text"
      },
      "source": [
        "<a href=\"https://colab.research.google.com/github/preetamjumech/Autoencoder_cnn-and-VAE/blob/main/Preetam_Saha_AutoEncoder_CNN_03_09_2022.ipynb\" target=\"_parent\"><img src=\"https://colab.research.google.com/assets/colab-badge.svg\" alt=\"Open In Colab\"/></a>"
      ]
    },
    {
      "cell_type": "code",
      "execution_count": 1,
      "metadata": {
        "id": "o935d1xWAfPc"
      },
      "outputs": [],
      "source": [
        "import torch\n",
        "import torch.nn as nn\n",
        "import torch.nn.functional as F\n",
        "from torch.utils.data import DataLoader, TensorDataset\n",
        "from torch.optim import Adam \n",
        "import matplotlib.pyplot as plt"
      ]
    },
    {
      "cell_type": "markdown",
      "source": [
        "#cnn autoencoder with noise removal"
      ],
      "metadata": {
        "id": "LB1bzcHNtf44"
      }
    },
    {
      "cell_type": "code",
      "source": [
        "device = torch.device(\"cuda\" if torch.cuda.is_available() else \"cpu\")\n",
        "device"
      ],
      "metadata": {
        "colab": {
          "base_uri": "https://localhost:8080/"
        },
        "id": "yULH6RM5BMde",
        "outputId": "40213a7b-41b3-41e8-902c-b1e43dcd7b8d"
      },
      "execution_count": 2,
      "outputs": [
        {
          "output_type": "execute_result",
          "data": {
            "text/plain": [
              "device(type='cpu')"
            ]
          },
          "metadata": {},
          "execution_count": 2
        }
      ]
    },
    {
      "cell_type": "code",
      "source": [
        "!wget https://github.com/MorvanZhou/PyTorch-Tutorial/raw/master/tutorial-contents-notebooks/mnist/processed/training.pt\n",
        "!wget https://github.com/MorvanZhou/PyTorch-Tutorial/raw/master/tutorial-contents-notebooks/mnist/processed/test.pt"
      ],
      "metadata": {
        "colab": {
          "base_uri": "https://localhost:8080/"
        },
        "id": "r9e8Lmv_BYbs",
        "outputId": "f0754cfa-8cb4-4b72-aa8d-7d88fe69f332"
      },
      "execution_count": 3,
      "outputs": [
        {
          "output_type": "stream",
          "name": "stdout",
          "text": [
            "--2022-10-04 07:12:22--  https://github.com/MorvanZhou/PyTorch-Tutorial/raw/master/tutorial-contents-notebooks/mnist/processed/training.pt\n",
            "Resolving github.com (github.com)... 140.82.114.3\n",
            "Connecting to github.com (github.com)|140.82.114.3|:443... connected.\n",
            "HTTP request sent, awaiting response... 302 Found\n",
            "Location: https://raw.githubusercontent.com/MorvanZhou/PyTorch-Tutorial/master/tutorial-contents-notebooks/mnist/processed/training.pt [following]\n",
            "--2022-10-04 07:12:23--  https://raw.githubusercontent.com/MorvanZhou/PyTorch-Tutorial/master/tutorial-contents-notebooks/mnist/processed/training.pt\n",
            "Resolving raw.githubusercontent.com (raw.githubusercontent.com)... 185.199.111.133, 185.199.108.133, 185.199.110.133, ...\n",
            "Connecting to raw.githubusercontent.com (raw.githubusercontent.com)|185.199.111.133|:443... connected.\n",
            "HTTP request sent, awaiting response... 200 OK\n",
            "Length: 47520431 (45M) [application/octet-stream]\n",
            "Saving to: ‘training.pt’\n",
            "\n",
            "training.pt         100%[===================>]  45.32M   193MB/s    in 0.2s    \n",
            "\n",
            "2022-10-04 07:12:23 (193 MB/s) - ‘training.pt’ saved [47520431/47520431]\n",
            "\n",
            "--2022-10-04 07:12:24--  https://github.com/MorvanZhou/PyTorch-Tutorial/raw/master/tutorial-contents-notebooks/mnist/processed/test.pt\n",
            "Resolving github.com (github.com)... 140.82.114.3\n",
            "Connecting to github.com (github.com)|140.82.114.3|:443... connected.\n",
            "HTTP request sent, awaiting response... 302 Found\n",
            "Location: https://raw.githubusercontent.com/MorvanZhou/PyTorch-Tutorial/master/tutorial-contents-notebooks/mnist/processed/test.pt [following]\n",
            "--2022-10-04 07:12:24--  https://raw.githubusercontent.com/MorvanZhou/PyTorch-Tutorial/master/tutorial-contents-notebooks/mnist/processed/test.pt\n",
            "Resolving raw.githubusercontent.com (raw.githubusercontent.com)... 185.199.108.133, 185.199.109.133, 185.199.110.133, ...\n",
            "Connecting to raw.githubusercontent.com (raw.githubusercontent.com)|185.199.108.133|:443... connected.\n",
            "HTTP request sent, awaiting response... 200 OK\n",
            "Length: 7920431 (7.6M) [application/octet-stream]\n",
            "Saving to: ‘test.pt’\n",
            "\n",
            "test.pt             100%[===================>]   7.55M  --.-KB/s    in 0.09s   \n",
            "\n",
            "2022-10-04 07:12:24 (88.4 MB/s) - ‘test.pt’ saved [7920431/7920431]\n",
            "\n"
          ]
        }
      ]
    },
    {
      "cell_type": "code",
      "source": [
        "x_train, _ = torch.load(\"training.pt\") #for auto encoder, we dont need y_train, we are using MNIST data, training will be faster"
      ],
      "metadata": {
        "id": "BgsghgKsGTKt"
      },
      "execution_count": 4,
      "outputs": []
    },
    {
      "cell_type": "code",
      "source": [
        "x_train.shape"
      ],
      "metadata": {
        "colab": {
          "base_uri": "https://localhost:8080/"
        },
        "id": "zxLWlJKWKKEM",
        "outputId": "764a49cd-7993-4c32-bff4-913016054a05"
      },
      "execution_count": 5,
      "outputs": [
        {
          "output_type": "execute_result",
          "data": {
            "text/plain": [
              "torch.Size([60000, 28, 28])"
            ]
          },
          "metadata": {},
          "execution_count": 5
        }
      ]
    },
    {
      "cell_type": "code",
      "source": [
        "plt.imshow(x_train[12]) #image without the normalization"
      ],
      "metadata": {
        "colab": {
          "base_uri": "https://localhost:8080/",
          "height": 282
        },
        "id": "7dc1vq-9KKRu",
        "outputId": "1944ffc5-85cf-46aa-ffe8-e7edab4122a9"
      },
      "execution_count": 6,
      "outputs": [
        {
          "output_type": "execute_result",
          "data": {
            "text/plain": [
              "<matplotlib.image.AxesImage at 0x7f2cbdf92a10>"
            ]
          },
          "metadata": {},
          "execution_count": 6
        },
        {
          "output_type": "display_data",
          "data": {
            "text/plain": [
              "<Figure size 432x288 with 1 Axes>"
            ],
            "image/png": "[encoded data removed]"
          },
          "metadata": {
            "needs_background": "light"
          }
        }
      ]
    },
    {
      "cell_type": "code",
      "source": [
        "def normalize(x):\n",
        "  max_val = x.max()\n",
        "  min_val = x.min()\n",
        "  return (x-min_val)/(max_val - min_val)"
      ],
      "metadata": {
        "id": "qJPQFc-yGb4r"
      },
      "execution_count": 7,
      "outputs": []
    },
    {
      "cell_type": "code",
      "source": [
        "#x_train = normalize(x_train)"
      ],
      "metadata": {
        "id": "Q_t8vNvrHMYV"
      },
      "execution_count": 8,
      "outputs": []
    },
    {
      "cell_type": "code",
      "source": [
        "x_train.shape #28*28 is a single image, shape remaining same, only values are getting normalized "
      ],
      "metadata": {
        "colab": {
          "base_uri": "https://localhost:8080/"
        },
        "id": "f4yl6o7JHQPO",
        "outputId": "6ab20feb-9742-4b9c-e70d-240d36aac28d"
      },
      "execution_count": 9,
      "outputs": [
        {
          "output_type": "execute_result",
          "data": {
            "text/plain": [
              "torch.Size([60000, 28, 28])"
            ]
          },
          "metadata": {},
          "execution_count": 9
        }
      ]
    },
    {
      "cell_type": "code",
      "source": [
        "def salt_n_pepper_noise(x):\n",
        "  return x+torch.rand(x.size())\n",
        "\n",
        "def gaussian_noise(x):\n",
        "  return x+torch.normal(0,0.15,size=x.size()) #mean = 0, sd = 0.15 , if sd is of higher value, the clipping would happen , value will be clipped at 1"
      ],
      "metadata": {
        "id": "u4X42-uqHZgV"
      },
      "execution_count": 10,
      "outputs": []
    },
    {
      "cell_type": "code",
      "source": [
        "plt.figure(figsize=(12,6))\n",
        "plt.subplot(1,3,1)\n",
        "plt.imshow(x_train[0])\n",
        "plt.subplot(1,3,2)\n",
        "plt.imshow(salt_n_pepper_noise(x_train[0]))\n",
        "plt.subplot(1,3,3)\n",
        "plt.imshow(gaussian_noise(x_train[0])) #even some noises are added, we dont see any kind of differences, if we DONT do NORMALIZATION"
      ],
      "metadata": {
        "colab": {
          "base_uri": "https://localhost:8080/",
          "height": 262
        },
        "id": "pEGinhSJKvDO",
        "outputId": "6167bdce-9f4c-4937-c09c-0ce7e4db3d54"
      },
      "execution_count": 11,
      "outputs": [
        {
          "output_type": "execute_result",
          "data": {
            "text/plain": [
              "<matplotlib.image.AxesImage at 0x7f2cbd9fc6d0>"
            ]
          },
          "metadata": {},
          "execution_count": 11
        },
        {
          "output_type": "display_data",
          "data": {
            "text/plain": [
              "<Figure size 864x432 with 3 Axes>"
            ],
            "image/png": "[encoded data removed]"
          },
          "metadata": {
            "needs_background": "light"
          }
        }
      ]
    },
    {
      "cell_type": "code",
      "source": [
        "x_train = normalize(x_train)"
      ],
      "metadata": {
        "id": "oAX7HlNYLLOw"
      },
      "execution_count": 12,
      "outputs": []
    },
    {
      "cell_type": "code",
      "source": [
        "plt.figure(figsize=(12,6))\n",
        "plt.subplot(1,3,1)\n",
        "plt.imshow(x_train[0])\n",
        "plt.subplot(1,3,2)\n",
        "plt.imshow(salt_n_pepper_noise(x_train[0]))\n",
        "plt.subplot(1,3,3)\n",
        "plt.imshow(gaussian_noise(x_train[0])) #after normalizing"
      ],
      "metadata": {
        "colab": {
          "base_uri": "https://localhost:8080/",
          "height": 262
        },
        "id": "SeGzb-NPMQH-",
        "outputId": "2ed754ac-8789-4e48-87ca-becc56a28852"
      },
      "execution_count": 13,
      "outputs": [
        {
          "output_type": "execute_result",
          "data": {
            "text/plain": [
              "<matplotlib.image.AxesImage at 0x7f2cbd8b7e90>"
            ]
          },
          "metadata": {},
          "execution_count": 13
        },
        {
          "output_type": "display_data",
          "data": {
            "text/plain": [
              "<Figure size 864x432 with 3 Axes>"
            ],
            "image/png": "[encoded data removed]"
          },
          "metadata": {
            "needs_background": "light"
          }
        }
      ]
    },
    {
      "cell_type": "code",
      "source": [
        "x_train_sp_noise = salt_n_pepper_noise(x_train) #x_train is tensor here, big brother of array \n",
        "#x_train_gauss_noise = gaussian_noise(x_train)"
      ],
      "metadata": {
        "id": "A9hPwDg3MXix"
      },
      "execution_count": 14,
      "outputs": []
    },
    {
      "cell_type": "code",
      "source": [
        "#input = x_train_sp_noise (with noise), output = x_train (de-noising) which is required to be supplied\n",
        "batch_size = 512\n",
        "train_loader = DataLoader(TensorDataset(x_train_sp_noise.reshape(-1,1,28,28).float(),\n",
        "                                        x_train.reshape(-1,1,28,28).float()),\n",
        "                          batch_size=512,shuffle=True)"
      ],
      "metadata": {
        "id": "imfCwCRuRf5D"
      },
      "execution_count": 15,
      "outputs": []
    },
    {
      "cell_type": "code",
      "source": [
        "class AE_CNN(nn.Module):\n",
        "  def __init__(self):\n",
        "    super(AE_CNN,self).__init__()\n",
        "\n",
        "    self.enc_cv1 = nn.Conv2d(in_channels=1,out_channels=32,kernel_size=3,padding=1)\n",
        "    self.pool = nn.MaxPool2d(kernel_size=2, stride=2)\n",
        "    self.enc_cv2 = nn.Conv2d(in_channels=32,out_channels=64,kernel_size=3,padding=1)\n",
        "\n",
        "    self.dec_cv2 = nn.ConvTranspose2d(in_channels=64,out_channels=32,stride =2,kernel_size=2)\n",
        "    self.dec_cv3 = nn.ConvTranspose2d(in_channels=32,out_channels=1,stride =2,kernel_size=2)\n",
        "\n",
        "  def encoder(self,x):\n",
        "    x = F.relu(self.enc_cv1(x)) #size = 28x28\n",
        "    x = self.pool(x) #size = 14x14\n",
        "    x = F.relu(self.enc_cv2(x)) #size = 14x14\n",
        "    x = self.pool(x) #size = 7x7 #at the constraint or bottleneck part, image size is 7x7\n",
        "\n",
        "    return x\n",
        "\n",
        "  def decoder(self,x):\n",
        "    x = F.relu(self.dec_cv2(x)) #size = 14x14\n",
        "    x = self.dec_cv3(x) #size = 28x28 \n",
        "\n",
        "    return x \n",
        "\n",
        "  def forward(self,x):\n",
        "    x = self.encoder(x)\n",
        "    x = self.decoder(x)\n",
        "\n",
        "    return x"
      ],
      "metadata": {
        "id": "DgA2QmWNSZp7"
      },
      "execution_count": 16,
      "outputs": []
    },
    {
      "cell_type": "code",
      "source": [
        "model = AE_CNN()"
      ],
      "metadata": {
        "id": "mks5sPYTjbLq"
      },
      "execution_count": 17,
      "outputs": []
    },
    {
      "cell_type": "code",
      "source": [
        "list(model.parameters())"
      ],
      "metadata": {
        "colab": {
          "base_uri": "https://localhost:8080/"
        },
        "id": "zr3bRwU-kjAu",
        "outputId": "c202884a-e4db-45ef-d1c9-c6e14ecb68f0"
      },
      "execution_count": 18,
      "outputs": [
        {
          "output_type": "execute_result",
          "data": {
            "text/plain": [
              "[Parameter containing:\n",
              " tensor([[[[ 0.2621, -0.0634, -0.0238],\n",
              "           [-0.1955,  0.1217,  0.2712],\n",
              "           [-0.1256, -0.1023,  0.1307]]],\n",
              " \n",
              " \n",
              "         [[[ 0.2566,  0.0421,  0.2323],\n",
              "           [-0.3316,  0.2411, -0.1513],\n",
              "           [ 0.2022,  0.1113,  0.2608]]],\n",
              " \n",
              " \n",
              "         [[[ 0.3140, -0.2720,  0.2620],\n",
              "           [ 0.2334, -0.0635, -0.2060],\n",
              "           [-0.1623, -0.2137,  0.1466]]],\n",
              " \n",
              " \n",
              "         [[[ 0.2641,  0.1388, -0.0605],\n",
              "           [-0.1469, -0.0220, -0.1952],\n",
              "           [-0.0544, -0.1853, -0.2046]]],\n",
              " \n",
              " \n",
              "         [[[-0.2197, -0.2884,  0.2587],\n",
              "           [ 0.1775, -0.1847,  0.1736],\n",
              "           [ 0.1336, -0.1533, -0.2579]]],\n",
              " \n",
              " \n",
              "         [[[ 0.1717,  0.2783,  0.3027],\n",
              "           [ 0.3204,  0.1715, -0.0044],\n",
              "           [ 0.0944,  0.1540,  0.1370]]],\n",
              " \n",
              " \n",
              "         [[[-0.2954, -0.0170, -0.0553],\n",
              "           [-0.1737, -0.1672,  0.1002],\n",
              "           [-0.0764,  0.2882, -0.2354]]],\n",
              " \n",
              " \n",
              "         [[[-0.2993, -0.1521,  0.0414],\n",
              "           [-0.2391, -0.0083, -0.1383],\n",
              "           [ 0.3042,  0.0190,  0.0515]]],\n",
              " \n",
              " \n",
              "         [[[-0.0456,  0.0340,  0.2350],\n",
              "           [ 0.2331, -0.0882,  0.2793],\n",
              "           [-0.1926,  0.0252, -0.2824]]],\n",
              " \n",
              " \n",
              "         [[[-0.2249, -0.0547, -0.0157],\n",
              "           [ 0.0774,  0.0661, -0.1197],\n",
              "           [-0.2773, -0.2663,  0.2043]]],\n",
              " \n",
              " \n",
              "         [[[ 0.1124,  0.1297, -0.0599],\n",
              "           [-0.2128,  0.1104,  0.2934],\n",
              "           [-0.0264,  0.0153,  0.1559]]],\n",
              " \n",
              " \n",
              "         [[[ 0.0099,  0.0229, -0.0886],\n",
              "           [ 0.2349, -0.2230,  0.0780],\n",
              "           [ 0.1454,  0.1791,  0.0566]]],\n",
              " \n",
              " \n",
              "         [[[-0.2949, -0.3110,  0.0803],\n",
              "           [-0.1561,  0.2162, -0.2649],\n",
              "           [ 0.2766, -0.3219, -0.0007]]],\n",
              " \n",
              " \n",
              "         [[[-0.1091,  0.3242, -0.2168],\n",
              "           [-0.2386, -0.1172,  0.2838],\n",
              "           [-0.0124,  0.1192,  0.1416]]],\n",
              " \n",
              " \n",
              "         [[[ 0.1530, -0.1009,  0.2531],\n",
              "           [-0.2719,  0.2028,  0.1028],\n",
              "           [-0.0348, -0.0826,  0.1018]]],\n",
              " \n",
              " \n",
              "         [[[-0.1894, -0.2887,  0.1205],\n",
              "           [-0.1859,  0.1102,  0.1319],\n",
              "           [-0.2801,  0.2534, -0.1722]]],\n",
              " \n",
              " \n",
              "         [[[-0.2480,  0.2955, -0.2957],\n",
              "           [ 0.2687,  0.1318, -0.0847],\n",
              "           [-0.2812,  0.1648,  0.1244]]],\n",
              " \n",
              " \n",
              "         [[[-0.0590,  0.2806,  0.0974],\n",
              "           [ 0.0232,  0.0537, -0.3141],\n",
              "           [ 0.2309, -0.2436,  0.0020]]],\n",
              " \n",
              " \n",
              "         [[[-0.2084, -0.1289,  0.0120],\n",
              "           [-0.1369, -0.2658,  0.1207],\n",
              "           [ 0.2347,  0.2767,  0.1865]]],\n",
              " \n",
              " \n",
              "         [[[-0.1363, -0.0521,  0.3173],\n",
              "           [-0.3111, -0.0360,  0.0655],\n",
              "           [-0.1229, -0.0081,  0.1810]]],\n",
              " \n",
              " \n",
              "         [[[-0.2069, -0.0996,  0.1715],\n",
              "           [-0.0706, -0.2485, -0.1669],\n",
              "           [ 0.1335,  0.2788,  0.1248]]],\n",
              " \n",
              " \n",
              "         [[[ 0.1164,  0.0983, -0.1756],\n",
              "           [-0.1761,  0.0792, -0.3267],\n",
              "           [-0.1574, -0.3005, -0.1939]]],\n",
              " \n",
              " \n",
              "         [[[-0.2365, -0.2253, -0.0436],\n",
              "           [-0.1116, -0.1134,  0.1191],\n",
              "           [-0.0227,  0.0721,  0.2789]]],\n",
              " \n",
              " \n",
              "         [[[ 0.1034, -0.0405,  0.0347],\n",
              "           [ 0.0744,  0.2804,  0.2593],\n",
              "           [ 0.0878, -0.1348,  0.2822]]],\n",
              " \n",
              " \n",
              "         [[[ 0.0443,  0.0150, -0.2343],\n",
              "           [ 0.0404, -0.2412, -0.2569],\n",
              "           [ 0.0956, -0.1649,  0.2583]]],\n",
              " \n",
              " \n",
              "         [[[-0.1102,  0.0973,  0.2796],\n",
              "           [ 0.0233,  0.1389,  0.2754],\n",
              "           [-0.0719,  0.0912, -0.2213]]],\n",
              " \n",
              " \n",
              "         [[[ 0.1372, -0.1271, -0.1887],\n",
              "           [ 0.1699, -0.3249, -0.0157],\n",
              "           [ 0.0005,  0.2904, -0.0377]]],\n",
              " \n",
              " \n",
              "         [[[-0.0623,  0.1991,  0.1723],\n",
              "           [ 0.1764, -0.3121, -0.0612],\n",
              "           [ 0.2015, -0.1517, -0.0890]]],\n",
              " \n",
              " \n",
              "         [[[ 0.0057, -0.2032, -0.2188],\n",
              "           [ 0.0152,  0.1251,  0.2836],\n",
              "           [-0.0227,  0.1915,  0.3145]]],\n",
              " \n",
              " \n",
              "         [[[ 0.0322, -0.2940, -0.2321],\n",
              "           [-0.0919,  0.0318, -0.0626],\n",
              "           [ 0.3265, -0.0182,  0.1224]]],\n",
              " \n",
              " \n",
              "         [[[ 0.0329, -0.2783, -0.3309],\n",
              "           [-0.3030, -0.0085, -0.0327],\n",
              "           [ 0.2087,  0.2853,  0.0730]]],\n",
              " \n",
              " \n",
              "         [[[ 0.3088, -0.2014, -0.2409],\n",
              "           [-0.2236, -0.0978,  0.0795],\n",
              "           [-0.2647, -0.0787,  0.2337]]]], requires_grad=True),\n",
              " Parameter containing:\n",
              " tensor([ 0.2665, -0.1529,  0.3087,  0.0161,  0.2111, -0.0548,  0.0955,  0.0675,\n",
              "          0.3251, -0.0602, -0.2022, -0.0257,  0.0417, -0.0917, -0.1251, -0.0662,\n",
              "         -0.0945, -0.3012,  0.0821,  0.0015, -0.1068,  0.2556,  0.1300,  0.0217,\n",
              "          0.1051,  0.0029,  0.1261,  0.2404, -0.0290, -0.2618,  0.3253, -0.0884],\n",
              "        requires_grad=True),\n",
              " Parameter containing:\n",
              " tensor([[[[-0.0372, -0.0159,  0.0495],\n",
              "           [-0.0086, -0.0426,  0.0289],\n",
              "           [ 0.0476,  0.0273, -0.0338]],\n",
              " \n",
              "          [[-0.0200,  0.0307,  0.0207],\n",
              "           [-0.0136, -0.0408,  0.0539],\n",
              "           [-0.0565,  0.0066,  0.0148]],\n",
              " \n",
              "          [[ 0.0183, -0.0246,  0.0429],\n",
              "           [ 0.0182, -0.0194, -0.0399],\n",
              "           [ 0.0208, -0.0352, -0.0194]],\n",
              " \n",
              "          ...,\n",
              " \n",
              "          [[-0.0332,  0.0150,  0.0387],\n",
              "           [ 0.0508,  0.0153, -0.0314],\n",
              "           [ 0.0493, -0.0141,  0.0108]],\n",
              " \n",
              "          [[ 0.0174,  0.0316,  0.0371],\n",
              "           [-0.0475,  0.0349, -0.0255],\n",
              "           [-0.0163, -0.0273,  0.0450]],\n",
              " \n",
              "          [[ 0.0336, -0.0165,  0.0184],\n",
              "           [-0.0159,  0.0350,  0.0217],\n",
              "           [-0.0460,  0.0015, -0.0434]]],\n",
              " \n",
              " \n",
              "         [[[-0.0374,  0.0007,  0.0329],\n",
              "           [-0.0446,  0.0106,  0.0380],\n",
              "           [-0.0096,  0.0374, -0.0319]],\n",
              " \n",
              "          [[-0.0518,  0.0553, -0.0260],\n",
              "           [-0.0098,  0.0444, -0.0317],\n",
              "           [-0.0343,  0.0391,  0.0455]],\n",
              " \n",
              "          [[-0.0541, -0.0064, -0.0571],\n",
              "           [-0.0124, -0.0428, -0.0371],\n",
              "           [-0.0389, -0.0067, -0.0145]],\n",
              " \n",
              "          ...,\n",
              " \n",
              "          [[ 0.0517,  0.0345,  0.0108],\n",
              "           [-0.0135, -0.0035, -0.0429],\n",
              "           [ 0.0588,  0.0447,  0.0374]],\n",
              " \n",
              "          [[ 0.0340,  0.0145, -0.0456],\n",
              "           [-0.0397, -0.0290,  0.0104],\n",
              "           [ 0.0518, -0.0275, -0.0268]],\n",
              " \n",
              "          [[-0.0521, -0.0034,  0.0042],\n",
              "           [ 0.0091,  0.0164, -0.0453],\n",
              "           [ 0.0395,  0.0126,  0.0219]]],\n",
              " \n",
              " \n",
              "         [[[ 0.0061, -0.0032,  0.0265],\n",
              "           [-0.0555,  0.0305, -0.0329],\n",
              "           [ 0.0509,  0.0021, -0.0541]],\n",
              " \n",
              "          [[ 0.0459, -0.0252, -0.0296],\n",
              "           [ 0.0205,  0.0022, -0.0455],\n",
              "           [-0.0444,  0.0580,  0.0430]],\n",
              " \n",
              "          [[-0.0176, -0.0562, -0.0228],\n",
              "           [-0.0260, -0.0066, -0.0542],\n",
              "           [-0.0140,  0.0582,  0.0323]],\n",
              " \n",
              "          ...,\n",
              " \n",
              "          [[ 0.0426, -0.0128,  0.0003],\n",
              "           [ 0.0073,  0.0546,  0.0469],\n",
              "           [ 0.0193,  0.0302, -0.0467]],\n",
              " \n",
              "          [[-0.0137, -0.0179, -0.0522],\n",
              "           [-0.0056, -0.0283, -0.0156],\n",
              "           [-0.0287, -0.0509,  0.0270]],\n",
              " \n",
              "          [[ 0.0558, -0.0105,  0.0171],\n",
              "           [ 0.0100,  0.0417, -0.0323],\n",
              "           [ 0.0224,  0.0322,  0.0089]]],\n",
              " \n",
              " \n",
              "         ...,\n",
              " \n",
              " \n",
              "         [[[ 0.0221,  0.0587, -0.0183],\n",
              "           [ 0.0076, -0.0332,  0.0002],\n",
              "           [-0.0407,  0.0101, -0.0225]],\n",
              " \n",
              "          [[ 0.0273, -0.0347,  0.0211],\n",
              "           [-0.0495, -0.0555,  0.0406],\n",
              "           [ 0.0489,  0.0346, -0.0361]],\n",
              " \n",
              "          [[ 0.0103,  0.0126, -0.0276],\n",
              "           [ 0.0333,  0.0366, -0.0404],\n",
              "           [-0.0531,  0.0107, -0.0175]],\n",
              " \n",
              "          ...,\n",
              " \n",
              "          [[-0.0450,  0.0513, -0.0417],\n",
              "           [-0.0389, -0.0354, -0.0201],\n",
              "           [ 0.0412, -0.0003,  0.0504]],\n",
              " \n",
              "          [[-0.0125, -0.0229, -0.0574],\n",
              "           [-0.0027, -0.0585, -0.0022],\n",
              "           [-0.0329,  0.0077, -0.0441]],\n",
              " \n",
              "          [[-0.0352, -0.0004,  0.0153],\n",
              "           [-0.0337, -0.0526,  0.0456],\n",
              "           [ 0.0166,  0.0575, -0.0312]]],\n",
              " \n",
              " \n",
              "         [[[-0.0154,  0.0576, -0.0281],\n",
              "           [-0.0116,  0.0258,  0.0347],\n",
              "           [ 0.0515,  0.0548,  0.0409]],\n",
              " \n",
              "          [[-0.0376, -0.0395, -0.0227],\n",
              "           [ 0.0138,  0.0363,  0.0550],\n",
              "           [-0.0120, -0.0066,  0.0137]],\n",
              " \n",
              "          [[ 0.0551,  0.0260,  0.0258],\n",
              "           [ 0.0213, -0.0520, -0.0369],\n",
              "           [-0.0162, -0.0006, -0.0018]],\n",
              " \n",
              "          ...,\n",
              " \n",
              "          [[ 0.0386,  0.0291,  0.0379],\n",
              "           [-0.0041, -0.0557, -0.0016],\n",
              "           [-0.0477, -0.0586, -0.0243]],\n",
              " \n",
              "          [[-0.0285, -0.0126, -0.0030],\n",
              "           [-0.0048,  0.0107,  0.0361],\n",
              "           [ 0.0392,  0.0455,  0.0448]],\n",
              " \n",
              "          [[ 0.0140, -0.0308,  0.0312],\n",
              "           [ 0.0500,  0.0527, -0.0344],\n",
              "           [-0.0064, -0.0402,  0.0327]]],\n",
              " \n",
              " \n",
              "         [[[-0.0537,  0.0260, -0.0561],\n",
              "           [-0.0056,  0.0454, -0.0042],\n",
              "           [-0.0251, -0.0563,  0.0073]],\n",
              " \n",
              "          [[-0.0004, -0.0046, -0.0055],\n",
              "           [ 0.0048,  0.0183, -0.0487],\n",
              "           [-0.0173,  0.0278,  0.0153]],\n",
              " \n",
              "          [[ 0.0198, -0.0218,  0.0452],\n",
              "           [-0.0269, -0.0281, -0.0069],\n",
              "           [ 0.0199,  0.0490,  0.0213]],\n",
              " \n",
              "          ...,\n",
              " \n",
              "          [[ 0.0190,  0.0245, -0.0381],\n",
              "           [ 0.0149, -0.0180, -0.0425],\n",
              "           [ 0.0575,  0.0231,  0.0327]],\n",
              " \n",
              "          [[ 0.0318, -0.0545,  0.0308],\n",
              "           [-0.0568,  0.0180, -0.0286],\n",
              "           [ 0.0221,  0.0432, -0.0378]],\n",
              " \n",
              "          [[-0.0050,  0.0371, -0.0485],\n",
              "           [-0.0078,  0.0055,  0.0305],\n",
              "           [ 0.0068, -0.0066,  0.0064]]]], requires_grad=True),\n",
              " Parameter containing:\n",
              " tensor([-0.0360,  0.0329, -0.0243,  0.0521, -0.0011,  0.0242,  0.0007,  0.0043,\n",
              "         -0.0380,  0.0412,  0.0006, -0.0188,  0.0539,  0.0464,  0.0573,  0.0113,\n",
              "         -0.0570,  0.0471, -0.0521,  0.0462,  0.0444, -0.0375, -0.0391,  0.0139,\n",
              "         -0.0071, -0.0518,  0.0178,  0.0218, -0.0538, -0.0138, -0.0265, -0.0081,\n",
              "          0.0113,  0.0011, -0.0447, -0.0516,  0.0259, -0.0456,  0.0127, -0.0094,\n",
              "          0.0187, -0.0136,  0.0048, -0.0003,  0.0100, -0.0283,  0.0581, -0.0513,\n",
              "         -0.0079,  0.0201,  0.0148, -0.0368,  0.0168, -0.0198,  0.0281, -0.0480,\n",
              "          0.0324,  0.0293,  0.0178,  0.0517,  0.0445,  0.0257, -0.0334, -0.0383],\n",
              "        requires_grad=True),\n",
              " Parameter containing:\n",
              " tensor([[[[-0.0130, -0.0435],\n",
              "           [-0.0314,  0.0537]],\n",
              " \n",
              "          [[-0.0524, -0.0223],\n",
              "           [ 0.0170,  0.0857]],\n",
              " \n",
              "          [[-0.0526, -0.0633],\n",
              "           [-0.0505,  0.0387]],\n",
              " \n",
              "          ...,\n",
              " \n",
              "          [[-0.0377, -0.0108],\n",
              "           [-0.0084,  0.0225]],\n",
              " \n",
              "          [[-0.0087,  0.0859],\n",
              "           [ 0.0074,  0.0763]],\n",
              " \n",
              "          [[ 0.0191,  0.0450],\n",
              "           [ 0.0557,  0.0749]]],\n",
              " \n",
              " \n",
              "         [[[ 0.0151,  0.0617],\n",
              "           [ 0.0491,  0.0296]],\n",
              " \n",
              "          [[ 0.0793, -0.0330],\n",
              "           [-0.0021,  0.0478]],\n",
              " \n",
              "          [[-0.0805, -0.0283],\n",
              "           [ 0.0155,  0.0776]],\n",
              " \n",
              "          ...,\n",
              " \n",
              "          [[-0.0646,  0.0743],\n",
              "           [ 0.0403,  0.0062]],\n",
              " \n",
              "          [[ 0.0464,  0.0582],\n",
              "           [ 0.0037, -0.0157]],\n",
              " \n",
              "          [[ 0.0654,  0.0511],\n",
              "           [ 0.0860, -0.0799]]],\n",
              " \n",
              " \n",
              "         [[[ 0.0697, -0.0501],\n",
              "           [-0.0555, -0.0115]],\n",
              " \n",
              "          [[-0.0328, -0.0516],\n",
              "           [-0.0665,  0.0302]],\n",
              " \n",
              "          [[ 0.0158, -0.0209],\n",
              "           [ 0.0072,  0.0702]],\n",
              " \n",
              "          ...,\n",
              " \n",
              "          [[-0.0271,  0.0156],\n",
              "           [-0.0300, -0.0124]],\n",
              " \n",
              "          [[-0.0864,  0.0576],\n",
              "           [-0.0399,  0.0326]],\n",
              " \n",
              "          [[ 0.0773, -0.0581],\n",
              "           [-0.0665,  0.0278]]],\n",
              " \n",
              " \n",
              "         ...,\n",
              " \n",
              " \n",
              "         [[[ 0.0806, -0.0475],\n",
              "           [-0.0660,  0.0722]],\n",
              " \n",
              "          [[-0.0143, -0.0876],\n",
              "           [ 0.0064,  0.0599]],\n",
              " \n",
              "          [[ 0.0022, -0.0560],\n",
              "           [-0.0094,  0.0639]],\n",
              " \n",
              "          ...,\n",
              " \n",
              "          [[ 0.0587,  0.0447],\n",
              "           [ 0.0297, -0.0846]],\n",
              " \n",
              "          [[-0.0489, -0.0213],\n",
              "           [-0.0697,  0.0601]],\n",
              " \n",
              "          [[-0.0446,  0.0133],\n",
              "           [ 0.0267, -0.0248]]],\n",
              " \n",
              " \n",
              "         [[[-0.0040, -0.0088],\n",
              "           [-0.0034,  0.0803]],\n",
              " \n",
              "          [[ 0.0704, -0.0588],\n",
              "           [ 0.0711, -0.0256]],\n",
              " \n",
              "          [[ 0.0761,  0.0603],\n",
              "           [-0.0498, -0.0455]],\n",
              " \n",
              "          ...,\n",
              " \n",
              "          [[-0.0361,  0.0207],\n",
              "           [-0.0840,  0.0857]],\n",
              " \n",
              "          [[-0.0691, -0.0049],\n",
              "           [ 0.0336,  0.0033]],\n",
              " \n",
              "          [[-0.0428,  0.0564],\n",
              "           [-0.0384, -0.0021]]],\n",
              " \n",
              " \n",
              "         [[[-0.0081, -0.0400],\n",
              "           [-0.0812, -0.0486]],\n",
              " \n",
              "          [[ 0.0701, -0.0152],\n",
              "           [-0.0808,  0.0827]],\n",
              " \n",
              "          [[ 0.0818,  0.0133],\n",
              "           [ 0.0551, -0.0745]],\n",
              " \n",
              "          ...,\n",
              " \n",
              "          [[-0.0012,  0.0432],\n",
              "           [-0.0144,  0.0244]],\n",
              " \n",
              "          [[-0.0272,  0.0252],\n",
              "           [-0.0773, -0.0296]],\n",
              " \n",
              "          [[-0.0271, -0.0665],\n",
              "           [-0.0413, -0.0226]]]], requires_grad=True),\n",
              " Parameter containing:\n",
              " tensor([-0.0571, -0.0356,  0.0416, -0.0853, -0.0500,  0.0858, -0.0159, -0.0776,\n",
              "         -0.0824, -0.0031, -0.0527,  0.0023, -0.0552, -0.0521, -0.0421, -0.0354,\n",
              "          0.0170,  0.0203,  0.0828, -0.0539, -0.0018,  0.0779,  0.0127,  0.0504,\n",
              "         -0.0268, -0.0840, -0.0220, -0.0223, -0.0500,  0.0198,  0.0432, -0.0296],\n",
              "        requires_grad=True),\n",
              " Parameter containing:\n",
              " tensor([[[[-0.0556,  0.0891],\n",
              "           [ 0.4149,  0.2554]]],\n",
              " \n",
              " \n",
              "         [[[ 0.0974,  0.4095],\n",
              "           [-0.3295, -0.3099]]],\n",
              " \n",
              " \n",
              "         [[[-0.0849,  0.0217],\n",
              "           [ 0.0643,  0.3686]]],\n",
              " \n",
              " \n",
              "         [[[-0.4545,  0.3040],\n",
              "           [ 0.1455,  0.3952]]],\n",
              " \n",
              " \n",
              "         [[[ 0.3354,  0.0385],\n",
              "           [ 0.4182,  0.4989]]],\n",
              " \n",
              " \n",
              "         [[[ 0.1102,  0.4123],\n",
              "           [-0.0293, -0.4941]]],\n",
              " \n",
              " \n",
              "         [[[-0.2827,  0.4339],\n",
              "           [ 0.3831,  0.2364]]],\n",
              " \n",
              " \n",
              "         [[[ 0.1498, -0.2613],\n",
              "           [ 0.0602, -0.4118]]],\n",
              " \n",
              " \n",
              "         [[[ 0.4139,  0.2181],\n",
              "           [-0.3229,  0.2905]]],\n",
              " \n",
              " \n",
              "         [[[ 0.2360, -0.2608],\n",
              "           [-0.1554,  0.4142]]],\n",
              " \n",
              " \n",
              "         [[[-0.1948, -0.0987],\n",
              "           [ 0.2857, -0.0077]]],\n",
              " \n",
              " \n",
              "         [[[-0.0335,  0.4040],\n",
              "           [-0.3040,  0.4607]]],\n",
              " \n",
              " \n",
              "         [[[ 0.4843,  0.1147],\n",
              "           [ 0.3878,  0.3381]]],\n",
              " \n",
              " \n",
              "         [[[-0.2157,  0.1347],\n",
              "           [-0.3425,  0.3917]]],\n",
              " \n",
              " \n",
              "         [[[-0.0399, -0.3906],\n",
              "           [ 0.4913,  0.4859]]],\n",
              " \n",
              " \n",
              "         [[[ 0.4023, -0.4846],\n",
              "           [-0.1835,  0.3681]]],\n",
              " \n",
              " \n",
              "         [[[-0.3619, -0.0819],\n",
              "           [-0.2532, -0.1537]]],\n",
              " \n",
              " \n",
              "         [[[-0.2126, -0.3478],\n",
              "           [ 0.3488, -0.1635]]],\n",
              " \n",
              " \n",
              "         [[[ 0.3560, -0.4938],\n",
              "           [-0.1881,  0.1845]]],\n",
              " \n",
              " \n",
              "         [[[-0.0058, -0.2191],\n",
              "           [ 0.4632, -0.1191]]],\n",
              " \n",
              " \n",
              "         [[[ 0.1568, -0.1745],\n",
              "           [ 0.2172,  0.3811]]],\n",
              " \n",
              " \n",
              "         [[[ 0.4276, -0.2891],\n",
              "           [ 0.2614,  0.0933]]],\n",
              " \n",
              " \n",
              "         [[[-0.4446, -0.3512],\n",
              "           [ 0.0941,  0.3148]]],\n",
              " \n",
              " \n",
              "         [[[ 0.3044, -0.2386],\n",
              "           [ 0.0216, -0.1461]]],\n",
              " \n",
              " \n",
              "         [[[-0.1780, -0.1515],\n",
              "           [ 0.2280,  0.0331]]],\n",
              " \n",
              " \n",
              "         [[[ 0.3274, -0.4733],\n",
              "           [-0.1093, -0.0103]]],\n",
              " \n",
              " \n",
              "         [[[-0.3588,  0.0063],\n",
              "           [ 0.2858, -0.4690]]],\n",
              " \n",
              " \n",
              "         [[[ 0.3670,  0.4292],\n",
              "           [ 0.2516, -0.0752]]],\n",
              " \n",
              " \n",
              "         [[[-0.4516,  0.3922],\n",
              "           [-0.4784, -0.2938]]],\n",
              " \n",
              " \n",
              "         [[[ 0.2837,  0.1717],\n",
              "           [-0.3666, -0.4806]]],\n",
              " \n",
              " \n",
              "         [[[ 0.0088,  0.1040],\n",
              "           [-0.3695, -0.1912]]],\n",
              " \n",
              " \n",
              "         [[[-0.0309, -0.1075],\n",
              "           [ 0.3001, -0.2352]]]], requires_grad=True),\n",
              " Parameter containing:\n",
              " tensor([0.3816], requires_grad=True)]"
            ]
          },
          "metadata": {},
          "execution_count": 18
        }
      ]
    },
    {
      "cell_type": "code",
      "source": [
        "opt = Adam(model.parameters())\n",
        "max_epoch = 10\n",
        "model = model.to(device)\n",
        "\n",
        "for epoch in range(max_epoch):\n",
        "  training_loss = 0.0\n",
        "\n",
        "  for data, target in train_loader:\n",
        "    data = data.to(device)\n",
        "    target = target.to(device)\n",
        "\n",
        "    opt.zero_grad()\n",
        "\n",
        "    output = model(data)\n",
        "\n",
        "    loss = F.mse_loss(output, target)\n",
        "    loss.backward()\n",
        "\n",
        "    opt.step()\n",
        "\n",
        "    training_loss += loss.item()\n",
        "\n",
        "  if (epoch+1)%2 == 0:\n",
        "    print(\"epoch: {} training loss : {}\".format(epoch+1,training_loss))"
      ],
      "metadata": {
        "colab": {
          "base_uri": "https://localhost:8080/"
        },
        "id": "QpY4QlJKjkHL",
        "outputId": "e5aebd04-f2e5-4dc0-8744-38d7458dcf65"
      },
      "execution_count": 19,
      "outputs": [
        {
          "output_type": "stream",
          "name": "stdout",
          "text": [
            "epoch: 2 training loss : 1.966891153715551\n",
            "epoch: 4 training loss : 1.391926234588027\n",
            "epoch: 6 training loss : 1.1925505688413978\n",
            "epoch: 8 training loss : 1.0904792752116919\n",
            "epoch: 10 training loss : 1.026395377703011\n"
          ]
        }
      ]
    },
    {
      "cell_type": "code",
      "source": [
        "x_test, _ = torch.load(\"test.pt\")"
      ],
      "metadata": {
        "id": "Weezihc4jqUF"
      },
      "execution_count": 20,
      "outputs": []
    },
    {
      "cell_type": "code",
      "source": [
        "img_id = 100\n",
        "test1 = x_test[img_id]\n",
        "test1_noise = salt_n_pepper_noise(normalize(test1.reshape(-1,1,28,28))) #here we are supplyinhy noised images as input (test data)\n",
        "test1_output = model(test1_noise.float().to(device)) #denoised image"
      ],
      "metadata": {
        "id": "uVROFgyiotpA"
      },
      "execution_count": 21,
      "outputs": []
    },
    {
      "cell_type": "code",
      "source": [
        "plt.imshow(test1_output.cpu().detach().numpy().reshape(28,28)) #denoised image , so noise is quite efficiently removed in this image"
      ],
      "metadata": {
        "colab": {
          "base_uri": "https://localhost:8080/",
          "height": 282
        },
        "id": "OFBt77MfpNDD",
        "outputId": "d20fd800-5151-43f9-e434-9bce50685785"
      },
      "execution_count": 22,
      "outputs": [
        {
          "output_type": "execute_result",
          "data": {
            "text/plain": [
              "<matplotlib.image.AxesImage at 0x7f2cbd90b950>"
            ]
          },
          "metadata": {},
          "execution_count": 22
        },
        {
          "output_type": "display_data",
          "data": {
            "text/plain": [
              "<Figure size 432x288 with 1 Axes>"
            ],
            "image/png": "[encoded data removed]"
          },
          "metadata": {
            "needs_background": "light"
          }
        }
      ]
    },
    {
      "cell_type": "code",
      "source": [
        "plt.imshow(x_test[100])"
      ],
      "metadata": {
        "colab": {
          "base_uri": "https://localhost:8080/",
          "height": 282
        },
        "id": "8fopq3uQpo-h",
        "outputId": "fe4c7df9-f359-49cb-aacc-560e27cf49f6"
      },
      "execution_count": 23,
      "outputs": [
        {
          "output_type": "execute_result",
          "data": {
            "text/plain": [
              "<matplotlib.image.AxesImage at 0x7f2cbcec76d0>"
            ]
          },
          "metadata": {},
          "execution_count": 23
        },
        {
          "output_type": "display_data",
          "data": {
            "text/plain": [
              "<Figure size 432x288 with 1 Axes>"
            ],
            "image/png": "[encoded data removed]"
          },
          "metadata": {
            "needs_background": "light"
          }
        }
      ]
    },
    {
      "cell_type": "code",
      "source": [
        "plt.imshow(test1_noise.reshape(28,28)) #original noised data"
      ],
      "metadata": {
        "colab": {
          "base_uri": "https://localhost:8080/",
          "height": 282
        },
        "id": "zQy4KHmSp-yL",
        "outputId": "f9ec11c7-e42f-4ec8-f740-eb2b22a8201d"
      },
      "execution_count": 24,
      "outputs": [
        {
          "output_type": "execute_result",
          "data": {
            "text/plain": [
              "<matplotlib.image.AxesImage at 0x7f2cbd7f9dd0>"
            ]
          },
          "metadata": {},
          "execution_count": 24
        },
        {
          "output_type": "display_data",
          "data": {
            "text/plain": [
              "<Figure size 432x288 with 1 Axes>"
            ],
            "image/png": "[encoded data removed]"
          },
          "metadata": {
            "needs_background": "light"
          }
        }
      ]
    },
    {
      "cell_type": "markdown",
      "source": [
        "#VAE"
      ],
      "metadata": {
        "id": "pPPSNJJ292oj"
      }
    },
    {
      "cell_type": "code",
      "source": [
        "bs = 512\n",
        "train_loader_vae = DataLoader(TensorDataset(x_train.reshape(-1,1,28,28).float(),x_train.reshape(-1,1,28,28).float()),\n",
        "                              batch_size=bs,shuffle=True)"
      ],
      "metadata": {
        "id": "wQQtZbrlqKQC"
      },
      "execution_count": 25,
      "outputs": []
    },
    {
      "cell_type": "code",
      "source": [
        "class VAE(nn.Module):\n",
        "  def __init__(self):\n",
        "    super(VAE,self).__init__()\n",
        "\n",
        "    self.enc_cv1 = nn.Conv2d(in_channels=1,out_channels=4*8,kernel_size=4,padding=1,stride=2) #14x14\n",
        "    self.enc_cv2 = nn.Conv2d(in_channels=4*8,out_channels=8*8,kernel_size=4,padding=1,stride=2) #7x7\n",
        "    self.enc_cv3 = nn.Conv2d(in_channels=8*8,out_channels=16*8,kernel_size=3,padding=0,stride=2) #3x3\n",
        "    self.enc_cv4 = nn.Conv2d(in_channels=16*8,out_channels=32*8,kernel_size=2,padding=0,stride=2) #1x1\n",
        "    \n",
        "    self.enc_mean = nn.Linear(in_features=32*8,out_features=20)\n",
        "    self.enc_var = nn.Linear(in_features=32*8,out_features=20)\n",
        "    \n",
        "    self.dec_fc = nn.Linear(in_features=20,out_features=32*8)\n",
        "    self.dec_cv2 = nn.ConvTranspose2d(in_channels=32*8,out_channels=16*8,stride =2,kernel_size=3,padding=0) #3x3\n",
        "    self.dec_cv3 = nn.ConvTranspose2d(in_channels=16*8,out_channels=8*8,stride =2,kernel_size=3,padding=0) #7x7\n",
        "    self.dec_cv4 = nn.ConvTranspose2d(in_channels=8*8,out_channels=4*8,stride =2,kernel_size=4,padding=1) #14x14\n",
        "    self.dec_cv5 = nn.ConvTranspose2d(in_channels=4*8,out_channels=1,stride =2,kernel_size=4,padding=1) #28x28\n",
        "\n",
        "  def encoder(self,x):\n",
        "    x = F.relu(self.enc_cv1(x))\n",
        "    x = F.relu(self.enc_cv2(x))\n",
        "    x = F.relu(self.enc_cv3(x))\n",
        "    x = F.relu(self.enc_cv4(x))\n",
        "\n",
        "    x = x.view(x.size()[0],-1) #flattening it\n",
        "\n",
        "    mu = self.enc_mean(x)\n",
        "    log_var = self.enc_var(x) #for our own reference, this is nothing but a neural netwrok \n",
        "\n",
        "    std = torch.exp(0.5*log_var)\n",
        "    eps = torch.rand_like(std)\n",
        "    z = mu + (eps*std)\n",
        "    return z,mu,log_var\n",
        "\n",
        "  def decoder(self,x):\n",
        "    x = F.relu(self.dec_fc(x))\n",
        "    x = x.reshape(-1,32*8,1,1)\n",
        "    x = F.relu(self.dec_cv2(x))\n",
        "    x = F.relu(self.dec_cv3(x))\n",
        "    x = F.relu(self.dec_cv4(x))\n",
        "    x = self.dec_cv5(x)\n",
        "    return x \n",
        "\n",
        "  def forward(self,x):\n",
        "    enc_out, mu, log_var = self.encoder(x)\n",
        "    dec_out = self.decoder(enc_out)\n",
        "    return dec_out, mu, log_var"
      ],
      "metadata": {
        "id": "GXGMiLrE-gVw"
      },
      "execution_count": 26,
      "outputs": []
    },
    {
      "cell_type": "code",
      "source": [
        "model_vae = VAE()"
      ],
      "metadata": {
        "id": "ynP9vkkONFQu"
      },
      "execution_count": 27,
      "outputs": []
    },
    {
      "cell_type": "code",
      "source": [
        "model_vae = model_vae.to(device)"
      ],
      "metadata": {
        "id": "xnOREWhqX0aK"
      },
      "execution_count": 28,
      "outputs": []
    },
    {
      "cell_type": "code",
      "source": [
        "opt_vae =Adam(model_vae.parameters())"
      ],
      "metadata": {
        "id": "o8HrNfQyX5YA"
      },
      "execution_count": 29,
      "outputs": []
    },
    {
      "cell_type": "code",
      "source": [
        "max_epoch = 100\n",
        "\n",
        "for epoch in range(max_epoch):\n",
        "  training_loss_vae = 0.0\n",
        "\n",
        "  for data_vae, _ in train_loader_vae:\n",
        "    data_vae = data_vae.to(device)\n",
        "\n",
        "    opt_vae.zero_grad()\n",
        "\n",
        "    output, mu, log_var = model_vae(data_vae)\n",
        "\n",
        "    loss_vae = F.mse_loss(output, data_vae,reduction = \"mean\") - \\\n",
        "                0.5*torch.mean(1+log_var-mu.pow(2)-log_var.exp())*(1/(epoch+1))\n",
        "    loss_vae.backward()\n",
        "    opt_vae.step()\n",
        "\n",
        "    training_loss_vae += loss_vae.item()\n",
        "\n",
        "  if (epoch+1) % 20 ==0 :\n",
        "    print(\"epoch: {} training loss : {}\".format(epoch+1,training_loss_vae))"
      ],
      "metadata": {
        "colab": {
          "base_uri": "https://localhost:8080/"
        },
        "id": "rbfSZ8VVX-M0",
        "outputId": "4b8f800e-affe-41aa-e4b7-36c265930d2a"
      },
      "execution_count": 30,
      "outputs": [
        {
          "output_type": "stream",
          "name": "stdout",
          "text": [
            "epoch: 20 training loss : 3.0477144345641136\n",
            "epoch: 40 training loss : 2.281730178743601\n",
            "epoch: 60 training loss : 1.9348421059548855\n",
            "epoch: 80 training loss : 1.7193778567016125\n",
            "epoch: 100 training loss : 1.5755185596644878\n"
          ]
        }
      ]
    },
    {
      "cell_type": "code",
      "source": [
        "import numpy as np\n"
      ],
      "metadata": {
        "id": "-IH81EEDaGbk"
      },
      "execution_count": 31,
      "outputs": []
    },
    {
      "cell_type": "code",
      "source": [
        "with torch.no_grad():\n",
        "  noise = np.random.normal(0,1,size=20)\n",
        "  noise = torch.from_numpy(noise).float().to(device)\n",
        "  generated_images = model_vae.decoder(noise)\n",
        "  plt.imshow(generated_images.cpu().detach().numpy().reshape(28,28))"
      ],
      "metadata": {
        "colab": {
          "base_uri": "https://localhost:8080/",
          "height": 265
        },
        "id": "UgLW7F6ecDw4",
        "outputId": "f535bc4f-1fc4-4405-cd19-ffbd7615fd5c"
      },
      "execution_count": 32,
      "outputs": [
        {
          "output_type": "display_data",
          "data": {
            "text/plain": [
              "<Figure size 432x288 with 1 Axes>"
            ],
            "image/png": "[encoded data removed]"
          },
          "metadata": {
            "needs_background": "light"
          }
        }
      ]
    },
    {
      "cell_type": "code",
      "source": [],
      "metadata": {
        "id": "LpZdOjo6fKTC"
      },
      "execution_count": 32,
      "outputs": []
    }
  ]
}