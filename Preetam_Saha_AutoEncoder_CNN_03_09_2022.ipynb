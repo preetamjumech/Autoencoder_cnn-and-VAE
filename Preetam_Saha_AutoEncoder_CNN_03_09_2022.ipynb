{
  "nbformat": 4,
  "nbformat_minor": 0,
  "metadata": {
    "colab": {
      "provenance": [],
      "collapsed_sections": [],
      "authorship_tag": "ABX9TyOvYrJP20SHwRnNnHiknJs9",
      "include_colab_link": true
    },
    "kernelspec": {
      "name": "python3",
      "display_name": "Python 3"
    },
    "language_info": {
      "name": "python"
    },
    "accelerator": "GPU"
  },
  "cells": [
    {
      "cell_type": "markdown",
      "metadata": {
        "id": "view-in-github",
        "colab_type": "text"
      },
      "source": [
        "<a href=\"https://colab.research.google.com/github/preetamjumech/Autoencoder_cnn-and-VAE/blob/main/Preetam_Saha_AutoEncoder_CNN_03_09_2022.ipynb\" target=\"_parent\"><img src=\"https://colab.research.google.com/assets/colab-badge.svg\" alt=\"Open In Colab\"/></a>"
      ]
    },
    {
      "cell_type": "code",
      "execution_count": 35,
      "metadata": {
        "id": "o935d1xWAfPc"
      },
      "outputs": [],
      "source": [
        "import torch\n",
        "import torch.nn as nn\n",
        "import torch.nn.functional as F\n",
        "from torch.utils.data import DataLoader, TensorDataset\n",
        "from torch.optim import Adam \n",
        "import matplotlib.pyplot as plt"
      ]
    },
    {
      "cell_type": "markdown",
      "source": [
        "#cnn autoencoder with noise removal"
      ],
      "metadata": {
        "id": "LB1bzcHNtf44"
      }
    },
    {
      "cell_type": "code",
      "source": [
        "device = torch.device(\"cuda\" if torch.cuda.is_available() else \"cpu\")\n",
        "device"
      ],
      "metadata": {
        "colab": {
          "base_uri": "https://localhost:8080/"
        },
        "id": "yULH6RM5BMde",
        "outputId": "02b5a856-7360-4718-8d28-ff00b2841224"
      },
      "execution_count": 36,
      "outputs": [
        {
          "output_type": "execute_result",
          "data": {
            "text/plain": [
              "device(type='cpu')"
            ]
          },
          "metadata": {},
          "execution_count": 36
        }
      ]
    },
    {
      "cell_type": "code",
      "source": [
        "!wget https://github.com/MorvanZhou/PyTorch-Tutorial/raw/master/tutorial-contents-notebooks/mnist/processed/training.pt\n",
        "!wget https://github.com/MorvanZhou/PyTorch-Tutorial/raw/master/tutorial-contents-notebooks/mnist/processed/test.pt"
      ],
      "metadata": {
        "colab": {
          "base_uri": "https://localhost:8080/"
        },
        "id": "r9e8Lmv_BYbs",
        "outputId": "a87046ee-a14c-4d1c-89b6-085fce628484"
      },
      "execution_count": 37,
      "outputs": [
        {
          "output_type": "stream",
          "name": "stdout",
          "text": [
            "--2022-10-03 15:17:19--  https://github.com/MorvanZhou/PyTorch-Tutorial/raw/master/tutorial-contents-notebooks/mnist/processed/training.pt\n",
            "Resolving github.com (github.com)... 140.82.112.3\n",
            "Connecting to github.com (github.com)|140.82.112.3|:443... connected.\n",
            "HTTP request sent, awaiting response... 302 Found\n",
            "Location: https://raw.githubusercontent.com/MorvanZhou/PyTorch-Tutorial/master/tutorial-contents-notebooks/mnist/processed/training.pt [following]\n",
            "--2022-10-03 15:17:19--  https://raw.githubusercontent.com/MorvanZhou/PyTorch-Tutorial/master/tutorial-contents-notebooks/mnist/processed/training.pt\n",
            "Resolving raw.githubusercontent.com (raw.githubusercontent.com)... 185.199.108.133, 185.199.109.133, 185.199.111.133, ...\n",
            "Connecting to raw.githubusercontent.com (raw.githubusercontent.com)|185.199.108.133|:443... connected.\n",
            "HTTP request sent, awaiting response... 200 OK\n",
            "Length: 47520431 (45M) [application/octet-stream]\n",
            "Saving to: ‘training.pt.1’\n",
            "\n",
            "training.pt.1       100%[===================>]  45.32M   268MB/s    in 0.2s    \n",
            "\n",
            "2022-10-03 15:17:21 (268 MB/s) - ‘training.pt.1’ saved [47520431/47520431]\n",
            "\n",
            "--2022-10-03 15:17:21--  https://github.com/MorvanZhou/PyTorch-Tutorial/raw/master/tutorial-contents-notebooks/mnist/processed/test.pt\n",
            "Resolving github.com (github.com)... 140.82.113.4\n",
            "Connecting to github.com (github.com)|140.82.113.4|:443... connected.\n",
            "HTTP request sent, awaiting response... 302 Found\n",
            "Location: https://raw.githubusercontent.com/MorvanZhou/PyTorch-Tutorial/master/tutorial-contents-notebooks/mnist/processed/test.pt [following]\n",
            "--2022-10-03 15:17:21--  https://raw.githubusercontent.com/MorvanZhou/PyTorch-Tutorial/master/tutorial-contents-notebooks/mnist/processed/test.pt\n",
            "Resolving raw.githubusercontent.com (raw.githubusercontent.com)... 185.199.108.133, 185.199.109.133, 185.199.110.133, ...\n",
            "Connecting to raw.githubusercontent.com (raw.githubusercontent.com)|185.199.108.133|:443... connected.\n",
            "HTTP request sent, awaiting response... 200 OK\n",
            "Length: 7920431 (7.6M) [application/octet-stream]\n",
            "Saving to: ‘test.pt.1’\n",
            "\n",
            "test.pt.1           100%[===================>]   7.55M  --.-KB/s    in 0.07s   \n",
            "\n",
            "2022-10-03 15:17:22 (107 MB/s) - ‘test.pt.1’ saved [7920431/7920431]\n",
            "\n"
          ]
        }
      ]
    },
    {
      "cell_type": "code",
      "source": [
        "x_train, _ = torch.load(\"training.pt\") #for auto encoder, we dont need y_train, we are using MNIST data, training will be faster"
      ],
      "metadata": {
        "id": "BgsghgKsGTKt"
      },
      "execution_count": 38,
      "outputs": []
    },
    {
      "cell_type": "code",
      "source": [
        "x_train.shape"
      ],
      "metadata": {
        "colab": {
          "base_uri": "https://localhost:8080/"
        },
        "id": "zxLWlJKWKKEM",
        "outputId": "040bd4bf-0b58-4f55-e284-4cde11929613"
      },
      "execution_count": 39,
      "outputs": [
        {
          "output_type": "execute_result",
          "data": {
            "text/plain": [
              "torch.Size([60000, 28, 28])"
            ]
          },
          "metadata": {},
          "execution_count": 39
        }
      ]
    },
    {
      "cell_type": "code",
      "source": [
        "plt.imshow(x_train[12]) #image without the normalization"
      ],
      "metadata": {
        "colab": {
          "base_uri": "https://localhost:8080/",
          "height": 282
        },
        "id": "7dc1vq-9KKRu",
        "outputId": "b1b1e0ac-68ba-4b18-84e3-a69ebf51f491"
      },
      "execution_count": 40,
      "outputs": [
        {
          "output_type": "execute_result",
          "data": {
            "text/plain": [
              "<matplotlib.image.AxesImage at 0x7fe53d12f7d0>"
            ]
          },
          "metadata": {},
          "execution_count": 40
        },
        {
          "output_type": "display_data",
          "data": {
            "text/plain": [
              "<Figure size 432x288 with 1 Axes>"
            ],
            "image/png": "[encoded data removed]"
          },
          "metadata": {
            "needs_background": "light"
          }
        }
      ]
    },
    {
      "cell_type": "code",
      "source": [
        "def normalize(x):\n",
        "  max_val = x.max()\n",
        "  min_val = x.min()\n",
        "  return (x-min_val)/(max_val - min_val)"
      ],
      "metadata": {
        "id": "qJPQFc-yGb4r"
      },
      "execution_count": 41,
      "outputs": []
    },
    {
      "cell_type": "code",
      "source": [
        "#x_train = normalize(x_train)"
      ],
      "metadata": {
        "id": "Q_t8vNvrHMYV"
      },
      "execution_count": 42,
      "outputs": []
    },
    {
      "cell_type": "code",
      "source": [
        "x_train.shape #28*28 is a single image, shape remaining same, only values are getting normalized "
      ],
      "metadata": {
        "colab": {
          "base_uri": "https://localhost:8080/"
        },
        "id": "f4yl6o7JHQPO",
        "outputId": "ccd2a012-c3e0-4b31-8bcf-4a2629f2681b"
      },
      "execution_count": 43,
      "outputs": [
        {
          "output_type": "execute_result",
          "data": {
            "text/plain": [
              "torch.Size([60000, 28, 28])"
            ]
          },
          "metadata": {},
          "execution_count": 43
        }
      ]
    },
    {
      "cell_type": "code",
      "source": [
        "def salt_n_pepper_noise(x):\n",
        "  return x+torch.rand(x.size())\n",
        "\n",
        "def gaussian_noise(x):\n",
        "  return x+torch.normal(0,0.15,size=x.size()) #mean = 0, sd = 0.15 , if sd is of higher value, the clipping would happen , value will be clipped at 1"
      ],
      "metadata": {
        "id": "u4X42-uqHZgV"
      },
      "execution_count": 44,
      "outputs": []
    },
    {
      "cell_type": "code",
      "source": [
        "plt.figure(figsize=(12,6))\n",
        "plt.subplot(1,3,1)\n",
        "plt.imshow(x_train[0])\n",
        "plt.subplot(1,3,2)\n",
        "plt.imshow(salt_n_pepper_noise(x_train[0]))\n",
        "plt.subplot(1,3,3)\n",
        "plt.imshow(gaussian_noise(x_train[0])) #even some noises are added, we dont see any kind of differences, if we DONT do NORMALIZATION"
      ],
      "metadata": {
        "colab": {
          "base_uri": "https://localhost:8080/",
          "height": 262
        },
        "id": "pEGinhSJKvDO",
        "outputId": "93ff50d6-b0e7-4869-ac95-a17ed1a11908"
      },
      "execution_count": 45,
      "outputs": [
        {
          "output_type": "execute_result",
          "data": {
            "text/plain": [
              "<matplotlib.image.AxesImage at 0x7fe53d655d10>"
            ]
          },
          "metadata": {},
          "execution_count": 45
        },
        {
          "output_type": "display_data",
          "data": {
            "text/plain": [
              "<Figure size 864x432 with 3 Axes>"
            ],
            "image/png": "[encoded data removed]"
          },
          "metadata": {
            "needs_background": "light"
          }
        }
      ]
    },
    {
      "cell_type": "code",
      "source": [
        "x_train = normalize(x_train)"
      ],
      "metadata": {
        "id": "oAX7HlNYLLOw"
      },
      "execution_count": 46,
      "outputs": []
    },
    {
      "cell_type": "code",
      "source": [
        "plt.figure(figsize=(12,6))\n",
        "plt.subplot(1,3,1)\n",
        "plt.imshow(x_train[0])\n",
        "plt.subplot(1,3,2)\n",
        "plt.imshow(salt_n_pepper_noise(x_train[0]))\n",
        "plt.subplot(1,3,3)\n",
        "plt.imshow(gaussian_noise(x_train[0])) #after normalizing"
      ],
      "metadata": {
        "colab": {
          "base_uri": "https://localhost:8080/",
          "height": 262
        },
        "id": "SeGzb-NPMQH-",
        "outputId": "dfc2c3dc-e13c-496f-8d43-08a48bcb9149"
      },
      "execution_count": 47,
      "outputs": [
        {
          "output_type": "execute_result",
          "data": {
            "text/plain": [
              "<matplotlib.image.AxesImage at 0x7fe53d4fde90>"
            ]
          },
          "metadata": {},
          "execution_count": 47
        },
        {
          "output_type": "display_data",
          "data": {
            "text/plain": [
              "<Figure size 864x432 with 3 Axes>"
            ],
            "image/png": "[encoded data removed]"
          },
          "metadata": {
            "needs_background": "light"
          }
        }
      ]
    },
    {
      "cell_type": "code",
      "source": [
        "x_train_sp_noise = salt_n_pepper_noise(x_train) #x_train is tensor here, big brother of array \n",
        "#x_train_gauss_noise = gaussian_noise(x_train)"
      ],
      "metadata": {
        "id": "A9hPwDg3MXix"
      },
      "execution_count": 48,
      "outputs": []
    },
    {
      "cell_type": "code",
      "source": [
        "#input = x_train_sp_noise (with noise), output = x_train (de-noising) which is required to be supplied\n",
        "batch_size = 512\n",
        "train_loader = DataLoader(TensorDataset(x_train_sp_noise.reshape(-1,1,28,28).float(),\n",
        "                                        x_train.reshape(-1,1,28,28).float()),\n",
        "                          batch_size=512,shuffle=True)"
      ],
      "metadata": {
        "id": "imfCwCRuRf5D"
      },
      "execution_count": 49,
      "outputs": []
    },
    {
      "cell_type": "code",
      "source": [
        "class AE_CNN(nn.Module):\n",
        "  def __init__(self):\n",
        "    super(AE_CNN,self).__init__()\n",
        "\n",
        "    self.enc_cv1 = nn.Conv2d(in_channels=1,out_channels=32,kernel_size=3,padding=1)\n",
        "    self.pool = nn.MaxPool2d(kernel_size=2, stride=2)\n",
        "    self.enc_cv2 = nn.Conv2d(in_channels=32,out_channels=64,kernel_size=3,padding=1)\n",
        "\n",
        "    self.dec_cv2 = nn.ConvTranspose2d(in_channels=64,out_channels=32,stride =2,kernel_size=2)\n",
        "    self.dec_cv3 = nn.ConvTranspose2d(in_channels=32,out_channels=1,stride =2,kernel_size=2)\n",
        "\n",
        "  def encoder(self,x):\n",
        "    x = F.relu(self.enc_cv1(x)) #size = 28x28\n",
        "    x = self.pool(x) #size = 14x14\n",
        "    x = F.relu(self.enc_cv2(x)) #size = 14x14\n",
        "    x = self.pool(x) #size = 7x7 #at the constraint or bottleneck part, image size is 7x7\n",
        "\n",
        "    return x\n",
        "\n",
        "  def decoder(self,x):\n",
        "    x = F.relu(self.dec_cv2(x)) #size = 14x14\n",
        "    x = self.dec_cv3(x) #size = 28x28 \n",
        "\n",
        "    return x \n",
        "\n",
        "  def forward(self,x):\n",
        "    x = self.encoder(x)\n",
        "    x = self.decoder(x)\n",
        "\n",
        "    return x"
      ],
      "metadata": {
        "id": "DgA2QmWNSZp7"
      },
      "execution_count": 50,
      "outputs": []
    },
    {
      "cell_type": "code",
      "source": [
        "model = AE_CNN()"
      ],
      "metadata": {
        "id": "mks5sPYTjbLq"
      },
      "execution_count": 51,
      "outputs": []
    },
    {
      "cell_type": "code",
      "source": [
        "list(model.parameters())"
      ],
      "metadata": {
        "colab": {
          "base_uri": "https://localhost:8080/"
        },
        "id": "zr3bRwU-kjAu",
        "outputId": "e47bf631-a1f1-4086-a850-03dc3648b158"
      },
      "execution_count": 52,
      "outputs": [
        {
          "output_type": "execute_result",
          "data": {
            "text/plain": [
              "[Parameter containing:\n",
              " tensor([[[[ 0.1921, -0.2112,  0.0694],\n",
              "           [-0.0716, -0.0083, -0.2431],\n",
              "           [ 0.0539, -0.3195,  0.2638]]],\n",
              " \n",
              " \n",
              "         [[[ 0.2529, -0.1959, -0.0958],\n",
              "           [-0.2644, -0.0970, -0.1574],\n",
              "           [ 0.2696,  0.2572,  0.0403]]],\n",
              " \n",
              " \n",
              "         [[[ 0.1755,  0.0552, -0.2389],\n",
              "           [-0.0880, -0.3073,  0.1348],\n",
              "           [-0.0799, -0.0152, -0.1665]]],\n",
              " \n",
              " \n",
              "         [[[-0.3252, -0.1909, -0.2011],\n",
              "           [-0.3027, -0.3153,  0.0622],\n",
              "           [ 0.0719, -0.1171,  0.0849]]],\n",
              " \n",
              " \n",
              "         [[[-0.1684, -0.1094,  0.0184],\n",
              "           [-0.0463, -0.0074, -0.0990],\n",
              "           [-0.0007, -0.2604, -0.1727]]],\n",
              " \n",
              " \n",
              "         [[[ 0.2695,  0.0471,  0.0503],\n",
              "           [ 0.0896, -0.2188, -0.2498],\n",
              "           [-0.1499, -0.0739,  0.1420]]],\n",
              " \n",
              " \n",
              "         [[[-0.2967, -0.0237, -0.2211],\n",
              "           [-0.2193, -0.2986,  0.2329],\n",
              "           [ 0.0335, -0.2971, -0.0277]]],\n",
              " \n",
              " \n",
              "         [[[ 0.3271,  0.1918, -0.1228],\n",
              "           [ 0.1063, -0.0471,  0.2851],\n",
              "           [-0.0616,  0.0424, -0.2018]]],\n",
              " \n",
              " \n",
              "         [[[-0.0225,  0.3319,  0.2152],\n",
              "           [-0.2466,  0.0909,  0.1205],\n",
              "           [ 0.2012, -0.2391,  0.0496]]],\n",
              " \n",
              " \n",
              "         [[[-0.0883, -0.3303,  0.2547],\n",
              "           [ 0.2282, -0.1452, -0.1960],\n",
              "           [-0.2796,  0.0680, -0.2446]]],\n",
              " \n",
              " \n",
              "         [[[-0.3018, -0.3165,  0.3179],\n",
              "           [ 0.1979,  0.1673, -0.1100],\n",
              "           [-0.1346,  0.1597,  0.2562]]],\n",
              " \n",
              " \n",
              "         [[[ 0.0101, -0.0674,  0.0872],\n",
              "           [ 0.0912, -0.0568,  0.0787],\n",
              "           [ 0.0884,  0.1294, -0.0687]]],\n",
              " \n",
              " \n",
              "         [[[-0.1464,  0.2235,  0.0417],\n",
              "           [ 0.2108,  0.0193,  0.3025],\n",
              "           [ 0.0766, -0.1698, -0.1610]]],\n",
              " \n",
              " \n",
              "         [[[-0.0754,  0.2937, -0.3011],\n",
              "           [-0.1685,  0.1931,  0.2976],\n",
              "           [-0.0686, -0.0619, -0.1493]]],\n",
              " \n",
              " \n",
              "         [[[-0.0134, -0.0508, -0.2803],\n",
              "           [ 0.0208, -0.0803, -0.2339],\n",
              "           [-0.0783,  0.1588, -0.2850]]],\n",
              " \n",
              " \n",
              "         [[[ 0.1722,  0.1536, -0.1689],\n",
              "           [ 0.2907, -0.2186, -0.0876],\n",
              "           [-0.1874, -0.0265,  0.0546]]],\n",
              " \n",
              " \n",
              "         [[[ 0.1793, -0.2681, -0.2964],\n",
              "           [ 0.2370, -0.2746,  0.1897],\n",
              "           [-0.2397, -0.2445,  0.1022]]],\n",
              " \n",
              " \n",
              "         [[[ 0.2778,  0.0539,  0.3314],\n",
              "           [ 0.1905, -0.0782, -0.1644],\n",
              "           [-0.2659,  0.1413,  0.2679]]],\n",
              " \n",
              " \n",
              "         [[[-0.2229,  0.1263, -0.0109],\n",
              "           [-0.1582, -0.0655,  0.3210],\n",
              "           [-0.3079,  0.2348, -0.3238]]],\n",
              " \n",
              " \n",
              "         [[[ 0.0235,  0.1403,  0.3148],\n",
              "           [-0.3013, -0.0275, -0.2875],\n",
              "           [ 0.0851,  0.1093, -0.2802]]],\n",
              " \n",
              " \n",
              "         [[[-0.2635,  0.3034,  0.1280],\n",
              "           [-0.0309,  0.1224,  0.0562],\n",
              "           [-0.1083, -0.1643, -0.0084]]],\n",
              " \n",
              " \n",
              "         [[[ 0.2351, -0.0252, -0.1304],\n",
              "           [-0.1869,  0.3168, -0.2961],\n",
              "           [-0.2766, -0.1148, -0.3177]]],\n",
              " \n",
              " \n",
              "         [[[ 0.0858, -0.3160, -0.2092],\n",
              "           [-0.2910,  0.1297, -0.2672],\n",
              "           [-0.3126,  0.1587, -0.1595]]],\n",
              " \n",
              " \n",
              "         [[[-0.3216,  0.3216, -0.2097],\n",
              "           [ 0.1017,  0.0818, -0.1750],\n",
              "           [ 0.1865,  0.2433,  0.1048]]],\n",
              " \n",
              " \n",
              "         [[[-0.0500, -0.1221,  0.1636],\n",
              "           [-0.1276, -0.0957, -0.0902],\n",
              "           [ 0.2449, -0.2807,  0.2962]]],\n",
              " \n",
              " \n",
              "         [[[ 0.3077, -0.0286,  0.2782],\n",
              "           [-0.1314, -0.2772,  0.1463],\n",
              "           [ 0.1428,  0.0978,  0.2911]]],\n",
              " \n",
              " \n",
              "         [[[-0.2562, -0.0860, -0.1918],\n",
              "           [ 0.2730,  0.2873, -0.3057],\n",
              "           [ 0.0614, -0.0824, -0.0404]]],\n",
              " \n",
              " \n",
              "         [[[ 0.2147, -0.1114,  0.1602],\n",
              "           [ 0.2970,  0.2090,  0.0922],\n",
              "           [-0.2739, -0.0618, -0.1749]]],\n",
              " \n",
              " \n",
              "         [[[ 0.1695, -0.3072, -0.2941],\n",
              "           [-0.0339,  0.1441,  0.2857],\n",
              "           [ 0.1599, -0.2638,  0.2721]]],\n",
              " \n",
              " \n",
              "         [[[-0.0400,  0.2349,  0.2137],\n",
              "           [ 0.1507, -0.0517, -0.0180],\n",
              "           [ 0.0205,  0.2209, -0.2313]]],\n",
              " \n",
              " \n",
              "         [[[ 0.2632,  0.2382, -0.1767],\n",
              "           [ 0.2558, -0.0304, -0.2357],\n",
              "           [ 0.1546,  0.2583,  0.0748]]],\n",
              " \n",
              " \n",
              "         [[[-0.1453,  0.1692,  0.0518],\n",
              "           [-0.1115,  0.2568, -0.2016],\n",
              "           [ 0.2979, -0.2490, -0.1128]]]], requires_grad=True),\n",
              " Parameter containing:\n",
              " tensor([ 0.1335,  0.3287, -0.2420, -0.0210,  0.1670, -0.0815, -0.0266,  0.2561,\n",
              "         -0.0817,  0.1889, -0.2101,  0.0281, -0.2540,  0.1620,  0.3050,  0.0876,\n",
              "          0.2568,  0.1802,  0.2898, -0.0732,  0.1643, -0.0860, -0.2468,  0.1097,\n",
              "          0.2687,  0.2545,  0.2067, -0.1842,  0.2110,  0.2651,  0.2644,  0.0166],\n",
              "        requires_grad=True),\n",
              " Parameter containing:\n",
              " tensor([[[[ 5.8011e-02,  1.6064e-02, -5.4318e-02],\n",
              "           [ 4.1686e-02, -5.6147e-02,  3.1787e-02],\n",
              "           [-5.0786e-03, -5.1632e-02, -3.6223e-02]],\n",
              " \n",
              "          [[ 4.7833e-02, -5.4685e-02, -4.0083e-02],\n",
              "           [ 3.8530e-02,  1.7358e-02,  4.9205e-02],\n",
              "           [-5.3078e-02,  4.3725e-02,  1.1436e-03]],\n",
              " \n",
              "          [[-4.9227e-02,  1.7346e-03, -2.0391e-02],\n",
              "           [-5.6881e-02, -4.6133e-02,  1.7999e-02],\n",
              "           [-5.3671e-02,  4.0177e-02,  4.2618e-02]],\n",
              " \n",
              "          ...,\n",
              " \n",
              "          [[-3.3437e-02, -4.5706e-03, -5.1484e-03],\n",
              "           [ 1.6632e-02, -5.4785e-02, -2.9563e-02],\n",
              "           [-3.7984e-02,  4.9765e-03,  4.9379e-02]],\n",
              " \n",
              "          [[ 3.1969e-02, -2.9966e-02,  1.2695e-02],\n",
              "           [ 2.5312e-02,  4.9334e-02, -3.8285e-02],\n",
              "           [-2.7182e-02,  2.1597e-02, -5.8902e-02]],\n",
              " \n",
              "          [[ 5.8924e-02, -1.4528e-02, -2.7686e-02],\n",
              "           [-5.4830e-02,  2.1782e-02, -5.3675e-02],\n",
              "           [-5.6591e-02,  5.4185e-02, -6.3508e-04]]],\n",
              " \n",
              " \n",
              "         [[[ 1.3732e-02,  3.7420e-02, -2.9933e-02],\n",
              "           [ 5.5968e-02,  2.7450e-02,  6.6772e-03],\n",
              "           [ 4.9160e-02, -5.5396e-02, -1.4184e-02]],\n",
              " \n",
              "          [[ 2.6333e-03, -4.6075e-03, -4.8819e-02],\n",
              "           [-1.1027e-04, -4.4406e-02, -5.3865e-02],\n",
              "           [-6.2151e-03,  5.8874e-02, -2.7458e-02]],\n",
              " \n",
              "          [[-1.8558e-02,  4.4592e-02,  6.9367e-03],\n",
              "           [ 1.5901e-02, -1.4136e-02,  1.9646e-02],\n",
              "           [ 4.0474e-02,  3.0886e-02,  4.1265e-02]],\n",
              " \n",
              "          ...,\n",
              " \n",
              "          [[ 3.0605e-02, -5.2101e-02, -1.8347e-02],\n",
              "           [ 9.5019e-03,  4.2245e-02, -2.2422e-02],\n",
              "           [ 4.6061e-02,  1.4649e-02,  4.2323e-02]],\n",
              " \n",
              "          [[ 1.8371e-02, -4.4574e-02,  4.1002e-02],\n",
              "           [ 1.4092e-02, -3.5644e-02, -3.0557e-02],\n",
              "           [ 8.7441e-05,  3.5862e-02, -1.5841e-02]],\n",
              " \n",
              "          [[-3.2285e-02, -4.5997e-02,  4.5471e-02],\n",
              "           [-3.2387e-03, -1.6336e-02,  5.8885e-02],\n",
              "           [ 4.6647e-02, -1.1044e-03, -3.4942e-02]]],\n",
              " \n",
              " \n",
              "         [[[ 2.2734e-02, -5.0331e-02, -1.2262e-02],\n",
              "           [-1.4998e-03, -1.7657e-02,  4.1327e-02],\n",
              "           [-1.5456e-02,  4.8278e-02, -3.2364e-02]],\n",
              " \n",
              "          [[-2.8527e-02,  4.1742e-02, -2.7716e-02],\n",
              "           [-2.5507e-02,  7.6833e-03, -2.2899e-02],\n",
              "           [-1.1726e-02,  4.7419e-02,  4.1735e-02]],\n",
              " \n",
              "          [[ 1.6254e-02, -2.4652e-03, -5.1920e-02],\n",
              "           [-1.1041e-02, -1.9425e-02, -2.0570e-02],\n",
              "           [ 2.5360e-02, -4.6227e-02, -5.3790e-02]],\n",
              " \n",
              "          ...,\n",
              " \n",
              "          [[ 3.9427e-02, -4.7448e-02,  5.4968e-02],\n",
              "           [ 2.7527e-02, -3.9131e-02, -2.9298e-02],\n",
              "           [-2.0856e-02, -3.1919e-02, -5.0640e-02]],\n",
              " \n",
              "          [[-3.1271e-02, -1.7869e-02,  3.2930e-02],\n",
              "           [ 5.3657e-02,  4.7612e-02,  5.4374e-02],\n",
              "           [-3.4997e-02,  5.0962e-02,  3.9567e-02]],\n",
              " \n",
              "          [[-4.8832e-02,  2.8776e-02, -3.1232e-02],\n",
              "           [ 5.1209e-03, -4.3284e-02, -1.9402e-02],\n",
              "           [-5.0704e-02,  4.6185e-02,  3.8394e-02]]],\n",
              " \n",
              " \n",
              "         ...,\n",
              " \n",
              " \n",
              "         [[[-5.4480e-02,  5.3350e-03,  4.5155e-02],\n",
              "           [-3.6112e-02,  4.5215e-02,  4.6726e-02],\n",
              "           [-3.4719e-02,  1.8659e-02,  2.7672e-02]],\n",
              " \n",
              "          [[-4.0662e-02, -5.5507e-02, -3.9321e-02],\n",
              "           [-3.2968e-02, -1.4039e-02,  3.2557e-02],\n",
              "           [-3.3780e-02,  1.5568e-02,  1.3597e-02]],\n",
              " \n",
              "          [[ 9.0775e-03,  3.2744e-02, -3.5227e-02],\n",
              "           [-5.3319e-02, -2.0369e-02,  3.3804e-02],\n",
              "           [ 4.3659e-02,  4.3784e-02,  3.6267e-02]],\n",
              " \n",
              "          ...,\n",
              " \n",
              "          [[ 2.2429e-02, -3.4354e-02, -7.0219e-03],\n",
              "           [ 4.0975e-02, -1.1761e-02, -4.0137e-02],\n",
              "           [ 7.0532e-03, -2.1853e-02,  4.5872e-02]],\n",
              " \n",
              "          [[-2.7639e-02, -3.7437e-02,  3.1959e-02],\n",
              "           [-4.2288e-02,  2.2140e-02,  1.2392e-02],\n",
              "           [-1.6024e-02,  3.1149e-02, -1.1609e-03]],\n",
              " \n",
              "          [[ 3.9914e-02,  2.1226e-02,  1.0476e-02],\n",
              "           [ 1.9132e-02,  4.5297e-02,  4.4856e-02],\n",
              "           [-2.8907e-04, -4.8780e-02, -2.3418e-02]]],\n",
              " \n",
              " \n",
              "         [[[-2.0832e-02, -2.2175e-02, -2.2915e-03],\n",
              "           [-2.1955e-02,  2.9204e-02, -4.8742e-02],\n",
              "           [ 2.8593e-03,  2.4147e-02,  2.3382e-02]],\n",
              " \n",
              "          [[ 1.8089e-02, -2.1226e-02, -3.1899e-02],\n",
              "           [-5.2351e-02, -2.2154e-02,  4.8300e-02],\n",
              "           [-1.5071e-02, -2.8734e-02,  4.3486e-02]],\n",
              " \n",
              "          [[ 2.1701e-02, -3.1621e-02,  8.5654e-03],\n",
              "           [ 5.1357e-02, -9.2613e-03, -2.4401e-02],\n",
              "           [ 4.5546e-02, -4.5677e-02,  9.4563e-03]],\n",
              " \n",
              "          ...,\n",
              " \n",
              "          [[-3.1634e-02,  4.8999e-02,  1.2523e-03],\n",
              "           [ 2.0859e-02,  5.8466e-02, -5.3200e-02],\n",
              "           [ 3.0765e-02, -3.0403e-03, -1.2492e-02]],\n",
              " \n",
              "          [[-4.6857e-02, -3.4317e-02, -5.5531e-02],\n",
              "           [ 5.1877e-02,  4.6006e-02,  3.0641e-02],\n",
              "           [-2.7521e-02, -8.3505e-03, -3.3875e-02]],\n",
              " \n",
              "          [[ 4.5821e-02,  2.7643e-02, -5.3988e-02],\n",
              "           [-2.7693e-02,  3.7684e-02, -1.1116e-02],\n",
              "           [ 4.6138e-02,  5.5813e-02, -3.8312e-03]]],\n",
              " \n",
              " \n",
              "         [[[ 5.0174e-02,  1.0010e-02, -5.1937e-02],\n",
              "           [ 1.5161e-02, -3.6166e-02,  1.2640e-02],\n",
              "           [ 3.4559e-02,  3.8166e-02,  4.1283e-04]],\n",
              " \n",
              "          [[ 2.7342e-02,  5.1671e-02,  1.9906e-02],\n",
              "           [ 4.9079e-02,  4.8290e-02,  5.3931e-02],\n",
              "           [-3.5787e-02,  5.6665e-02,  2.7536e-02]],\n",
              " \n",
              "          [[-1.7533e-02,  9.4001e-03, -3.1668e-02],\n",
              "           [ 3.2860e-02, -2.2971e-03,  1.4209e-02],\n",
              "           [-5.1905e-02, -2.8560e-02, -4.5894e-02]],\n",
              " \n",
              "          ...,\n",
              " \n",
              "          [[-3.2545e-02,  4.1350e-02, -2.1791e-02],\n",
              "           [-4.0571e-02,  2.0912e-02,  3.0296e-02],\n",
              "           [-1.7783e-02,  3.2601e-02,  3.3579e-02]],\n",
              " \n",
              "          [[ 1.6646e-02,  1.0819e-02, -5.3328e-02],\n",
              "           [ 3.0810e-02,  4.9839e-02, -3.0931e-02],\n",
              "           [-2.0779e-02,  3.9048e-02, -5.5892e-04]],\n",
              " \n",
              "          [[ 2.9651e-02,  2.9528e-02, -2.9605e-03],\n",
              "           [ 3.9236e-03,  3.0499e-02,  5.4353e-02],\n",
              "           [-3.1815e-02, -4.4125e-02, -3.0821e-02]]]], requires_grad=True),\n",
              " Parameter containing:\n",
              " tensor([-0.0158,  0.0083, -0.0449,  0.0252,  0.0414,  0.0096,  0.0184, -0.0153,\n",
              "          0.0468,  0.0088,  0.0076, -0.0344, -0.0291,  0.0457,  0.0307,  0.0286,\n",
              "         -0.0156, -0.0481, -0.0134, -0.0518, -0.0511, -0.0397,  0.0404, -0.0095,\n",
              "         -0.0191,  0.0161, -0.0253,  0.0250, -0.0276, -0.0098, -0.0281, -0.0090,\n",
              "          0.0255,  0.0514, -0.0007, -0.0138, -0.0361, -0.0520,  0.0395, -0.0284,\n",
              "         -0.0515, -0.0048, -0.0511,  0.0477, -0.0396,  0.0116,  0.0511, -0.0525,\n",
              "          0.0439,  0.0426, -0.0236,  0.0115, -0.0414, -0.0586,  0.0371,  0.0440,\n",
              "          0.0403, -0.0099,  0.0355,  0.0566,  0.0049, -0.0148, -0.0415, -0.0074],\n",
              "        requires_grad=True),\n",
              " Parameter containing:\n",
              " tensor([[[[ 0.0249, -0.0068],\n",
              "           [-0.0168,  0.0289]],\n",
              " \n",
              "          [[-0.0478,  0.0654],\n",
              "           [ 0.0600, -0.0613]],\n",
              " \n",
              "          [[-0.0746, -0.0806],\n",
              "           [-0.0680, -0.0550]],\n",
              " \n",
              "          ...,\n",
              " \n",
              "          [[ 0.0563,  0.0513],\n",
              "           [ 0.0580, -0.0493]],\n",
              " \n",
              "          [[ 0.0625,  0.0091],\n",
              "           [-0.0467,  0.0020]],\n",
              " \n",
              "          [[-0.0765, -0.0169],\n",
              "           [ 0.0319,  0.0344]]],\n",
              " \n",
              " \n",
              "         [[[-0.0260, -0.0364],\n",
              "           [ 0.0812, -0.0740]],\n",
              " \n",
              "          [[-0.0024,  0.0275],\n",
              "           [ 0.0235,  0.0352]],\n",
              " \n",
              "          [[ 0.0432, -0.0173],\n",
              "           [ 0.0705,  0.0743]],\n",
              " \n",
              "          ...,\n",
              " \n",
              "          [[ 0.0832, -0.0556],\n",
              "           [ 0.0340,  0.0848]],\n",
              " \n",
              "          [[ 0.0574,  0.0165],\n",
              "           [ 0.0039, -0.0388]],\n",
              " \n",
              "          [[ 0.0775, -0.0553],\n",
              "           [ 0.0533,  0.0545]]],\n",
              " \n",
              " \n",
              "         [[[-0.0175,  0.0602],\n",
              "           [-0.0153,  0.0144]],\n",
              " \n",
              "          [[ 0.0538, -0.0378],\n",
              "           [ 0.0723,  0.0732]],\n",
              " \n",
              "          [[ 0.0719, -0.0480],\n",
              "           [-0.0198, -0.0868]],\n",
              " \n",
              "          ...,\n",
              " \n",
              "          [[-0.0789,  0.0783],\n",
              "           [-0.0247,  0.0569]],\n",
              " \n",
              "          [[-0.0870, -0.0488],\n",
              "           [ 0.0702,  0.0713]],\n",
              " \n",
              "          [[ 0.0496,  0.0484],\n",
              "           [ 0.0215,  0.0562]]],\n",
              " \n",
              " \n",
              "         ...,\n",
              " \n",
              " \n",
              "         [[[-0.0878,  0.0483],\n",
              "           [-0.0403,  0.0619]],\n",
              " \n",
              "          [[-0.0329, -0.0174],\n",
              "           [ 0.0003, -0.0023]],\n",
              " \n",
              "          [[ 0.0109, -0.0730],\n",
              "           [-0.0182, -0.0529]],\n",
              " \n",
              "          ...,\n",
              " \n",
              "          [[-0.0630, -0.0756],\n",
              "           [ 0.0608, -0.0409]],\n",
              " \n",
              "          [[-0.0368,  0.0835],\n",
              "           [-0.0753,  0.0630]],\n",
              " \n",
              "          [[ 0.0738, -0.0646],\n",
              "           [-0.0195,  0.0207]]],\n",
              " \n",
              " \n",
              "         [[[ 0.0159, -0.0583],\n",
              "           [ 0.0100, -0.0789]],\n",
              " \n",
              "          [[ 0.0705,  0.0618],\n",
              "           [ 0.0538, -0.0028]],\n",
              " \n",
              "          [[ 0.0138,  0.0096],\n",
              "           [ 0.0032,  0.0181]],\n",
              " \n",
              "          ...,\n",
              " \n",
              "          [[-0.0128, -0.0828],\n",
              "           [-0.0099, -0.0059]],\n",
              " \n",
              "          [[-0.0809, -0.0687],\n",
              "           [-0.0837, -0.0180]],\n",
              " \n",
              "          [[ 0.0558, -0.0441],\n",
              "           [ 0.0450,  0.0220]]],\n",
              " \n",
              " \n",
              "         [[[ 0.0815, -0.0177],\n",
              "           [ 0.0330, -0.0733]],\n",
              " \n",
              "          [[-0.0217, -0.0016],\n",
              "           [-0.0511,  0.0086]],\n",
              " \n",
              "          [[-0.0196, -0.0693],\n",
              "           [-0.0526, -0.0847]],\n",
              " \n",
              "          ...,\n",
              " \n",
              "          [[ 0.0852, -0.0467],\n",
              "           [ 0.0177, -0.0722]],\n",
              " \n",
              "          [[ 0.0309,  0.0316],\n",
              "           [ 0.0598,  0.0621]],\n",
              " \n",
              "          [[-0.0579,  0.0608],\n",
              "           [-0.0297, -0.0810]]]], requires_grad=True),\n",
              " Parameter containing:\n",
              " tensor([-0.0247,  0.0252,  0.0559, -0.0864,  0.0439, -0.0309,  0.0837,  0.0728,\n",
              "         -0.0545, -0.0356,  0.0306, -0.0247, -0.0260,  0.0541, -0.0750,  0.0303,\n",
              "          0.0548, -0.0520,  0.0699, -0.0584,  0.0622, -0.0059,  0.0274, -0.0406,\n",
              "          0.0690,  0.0702,  0.0180, -0.0222, -0.0701,  0.0319,  0.0007,  0.0854],\n",
              "        requires_grad=True),\n",
              " Parameter containing:\n",
              " tensor([[[[ 0.2815, -0.1541],\n",
              "           [-0.0471,  0.2268]]],\n",
              " \n",
              " \n",
              "         [[[ 0.1661, -0.3190],\n",
              "           [-0.3629, -0.3036]]],\n",
              " \n",
              " \n",
              "         [[[-0.3351,  0.0297],\n",
              "           [ 0.3502,  0.2316]]],\n",
              " \n",
              " \n",
              "         [[[ 0.4730,  0.4985],\n",
              "           [-0.4769,  0.4201]]],\n",
              " \n",
              " \n",
              "         [[[ 0.0690, -0.2777],\n",
              "           [ 0.2070, -0.1384]]],\n",
              " \n",
              " \n",
              "         [[[ 0.2670, -0.4187],\n",
              "           [-0.1527,  0.2682]]],\n",
              " \n",
              " \n",
              "         [[[-0.1504,  0.1434],\n",
              "           [ 0.3550, -0.3671]]],\n",
              " \n",
              " \n",
              "         [[[ 0.0729, -0.4297],\n",
              "           [ 0.0583, -0.3999]]],\n",
              " \n",
              " \n",
              "         [[[ 0.1364,  0.4315],\n",
              "           [ 0.1603,  0.2767]]],\n",
              " \n",
              " \n",
              "         [[[ 0.1866, -0.1875],\n",
              "           [ 0.3703,  0.4306]]],\n",
              " \n",
              " \n",
              "         [[[ 0.2149,  0.1031],\n",
              "           [-0.4943, -0.4345]]],\n",
              " \n",
              " \n",
              "         [[[ 0.3407, -0.4683],\n",
              "           [-0.4191,  0.0270]]],\n",
              " \n",
              " \n",
              "         [[[ 0.1694, -0.4062],\n",
              "           [-0.4327,  0.1036]]],\n",
              " \n",
              " \n",
              "         [[[-0.0890,  0.2362],\n",
              "           [ 0.3482, -0.0061]]],\n",
              " \n",
              " \n",
              "         [[[ 0.3359,  0.0415],\n",
              "           [-0.0623,  0.0140]]],\n",
              " \n",
              " \n",
              "         [[[ 0.2470, -0.3070],\n",
              "           [ 0.0251, -0.3642]]],\n",
              " \n",
              " \n",
              "         [[[-0.1507,  0.1163],\n",
              "           [-0.3071, -0.3794]]],\n",
              " \n",
              " \n",
              "         [[[-0.4356, -0.1695],\n",
              "           [-0.1853, -0.2327]]],\n",
              " \n",
              " \n",
              "         [[[-0.1854,  0.3800],\n",
              "           [-0.1037,  0.0106]]],\n",
              " \n",
              " \n",
              "         [[[ 0.1218, -0.0440],\n",
              "           [-0.1331, -0.1706]]],\n",
              " \n",
              " \n",
              "         [[[ 0.2763,  0.3907],\n",
              "           [ 0.3979,  0.1227]]],\n",
              " \n",
              " \n",
              "         [[[ 0.3032, -0.2205],\n",
              "           [-0.3742,  0.0823]]],\n",
              " \n",
              " \n",
              "         [[[ 0.2747, -0.2323],\n",
              "           [-0.1494,  0.0568]]],\n",
              " \n",
              " \n",
              "         [[[ 0.3791,  0.3788],\n",
              "           [-0.0269, -0.4584]]],\n",
              " \n",
              " \n",
              "         [[[-0.3880,  0.1818],\n",
              "           [ 0.1545, -0.1932]]],\n",
              " \n",
              " \n",
              "         [[[ 0.2690, -0.2648],\n",
              "           [ 0.3733, -0.4202]]],\n",
              " \n",
              " \n",
              "         [[[-0.1579,  0.3120],\n",
              "           [-0.0405,  0.0598]]],\n",
              " \n",
              " \n",
              "         [[[-0.3564, -0.4071],\n",
              "           [ 0.2861,  0.0906]]],\n",
              " \n",
              " \n",
              "         [[[ 0.2961, -0.3654],\n",
              "           [ 0.2380,  0.4908]]],\n",
              " \n",
              " \n",
              "         [[[-0.2380,  0.0719],\n",
              "           [ 0.3835, -0.2407]]],\n",
              " \n",
              " \n",
              "         [[[ 0.3729,  0.4635],\n",
              "           [ 0.1700,  0.4565]]],\n",
              " \n",
              " \n",
              "         [[[-0.3896, -0.0289],\n",
              "           [ 0.2647,  0.1433]]]], requires_grad=True),\n",
              " Parameter containing:\n",
              " tensor([0.0069], requires_grad=True)]"
            ]
          },
          "metadata": {},
          "execution_count": 52
        }
      ]
    },
    {
      "cell_type": "code",
      "source": [
        "opt = Adam(model.parameters())\n",
        "max_epoch = 10\n",
        "model = model.to(device)\n",
        "\n",
        "for epoch in range(max_epoch):\n",
        "  training_loss = 0.0\n",
        "\n",
        "  for data, target in train_loader:\n",
        "    data = data.to(device)\n",
        "    target = target.to(device)\n",
        "\n",
        "    opt.zero_grad()\n",
        "\n",
        "    output = model(data)\n",
        "\n",
        "    loss = F.mse_loss(output, target)\n",
        "    loss.backward()\n",
        "\n",
        "    opt.step()\n",
        "\n",
        "    training_loss += loss.item()\n",
        "\n",
        "  if (epoch+1)%2 == 0:\n",
        "    print(\"epoch: {} training loss : {}\".format(epoch+1,training_loss))"
      ],
      "metadata": {
        "colab": {
          "base_uri": "https://localhost:8080/"
        },
        "id": "QpY4QlJKjkHL",
        "outputId": "244ee6e5-cbe6-4f69-a17f-6f7848f73adb"
      },
      "execution_count": 53,
      "outputs": [
        {
          "output_type": "stream",
          "name": "stdout",
          "text": [
            "epoch: 2 training loss : 1.866472091525793\n",
            "epoch: 4 training loss : 1.3182970387861133\n",
            "epoch: 6 training loss : 1.139801979996264\n",
            "epoch: 8 training loss : 1.0456341607496142\n",
            "epoch: 10 training loss : 0.9819988952949643\n"
          ]
        }
      ]
    },
    {
      "cell_type": "code",
      "source": [
        "x_test, _ = torch.load(\"test.pt\")"
      ],
      "metadata": {
        "id": "Weezihc4jqUF"
      },
      "execution_count": 54,
      "outputs": []
    },
    {
      "cell_type": "code",
      "source": [
        "img_id = 100\n",
        "test1 = x_test[img_id]\n",
        "test1_noise = salt_n_pepper_noise(normalize(test1.reshape(-1,1,28,28))) #here we are supplyinhy noised images as input (test data)\n",
        "test1_output = model(test1_noise.float().to(device)) #denoised image"
      ],
      "metadata": {
        "id": "uVROFgyiotpA"
      },
      "execution_count": 55,
      "outputs": []
    },
    {
      "cell_type": "code",
      "source": [
        "plt.imshow(test1_output.cpu().detach().numpy().reshape(28,28)) #denoised image , so noise is quite efficiently removed in this image"
      ],
      "metadata": {
        "colab": {
          "base_uri": "https://localhost:8080/",
          "height": 282
        },
        "id": "OFBt77MfpNDD",
        "outputId": "a0391e34-a480-4a18-cab9-53bfd88a0799"
      },
      "execution_count": 56,
      "outputs": [
        {
          "output_type": "execute_result",
          "data": {
            "text/plain": [
              "<matplotlib.image.AxesImage at 0x7fe53d590a50>"
            ]
          },
          "metadata": {},
          "execution_count": 56
        },
        {
          "output_type": "display_data",
          "data": {
            "text/plain": [
              "<Figure size 432x288 with 1 Axes>"
            ],
            "image/png": "[encoded data removed]"
          },
          "metadata": {
            "needs_background": "light"
          }
        }
      ]
    },
    {
      "cell_type": "code",
      "source": [
        "plt.imshow(x_test[100])"
      ],
      "metadata": {
        "colab": {
          "base_uri": "https://localhost:8080/",
          "height": 282
        },
        "id": "8fopq3uQpo-h",
        "outputId": "3e48cc9d-5b22-481b-b70c-bdf8f416c8a2"
      },
      "execution_count": 57,
      "outputs": [
        {
          "output_type": "execute_result",
          "data": {
            "text/plain": [
              "<matplotlib.image.AxesImage at 0x7fe53ce64c90>"
            ]
          },
          "metadata": {},
          "execution_count": 57
        },
        {
          "output_type": "display_data",
          "data": {
            "text/plain": [
              "<Figure size 432x288 with 1 Axes>"
            ],
            "image/png": "[encoded data removed]"
          },
          "metadata": {
            "needs_background": "light"
          }
        }
      ]
    },
    {
      "cell_type": "code",
      "source": [
        "plt.imshow(test1_noise.reshape(28,28)) #original noised data"
      ],
      "metadata": {
        "colab": {
          "base_uri": "https://localhost:8080/",
          "height": 282
        },
        "id": "zQy4KHmSp-yL",
        "outputId": "f1d9ebc5-a5de-4e15-8123-9075a441fe7b"
      },
      "execution_count": 58,
      "outputs": [
        {
          "output_type": "execute_result",
          "data": {
            "text/plain": [
              "<matplotlib.image.AxesImage at 0x7fe53ce5b550>"
            ]
          },
          "metadata": {},
          "execution_count": 58
        },
        {
          "output_type": "display_data",
          "data": {
            "text/plain": [
              "<Figure size 432x288 with 1 Axes>"
            ],
            "image/png": "[encoded data removed]"
          },
          "metadata": {
            "needs_background": "light"
          }
        }
      ]
    },
    {
      "cell_type": "markdown",
      "source": [
        "#VAE"
      ],
      "metadata": {
        "id": "pPPSNJJ292oj"
      }
    },
    {
      "cell_type": "code",
      "source": [
        "bs = 512\n",
        "train_loader_vae = DataLoader(TensorDataset(x_train.reshape(-1,1,28,28).float(),x_train.reshape(-1,1,28,28).float()),\n",
        "                              batch_size=bs,shuffle=True)"
      ],
      "metadata": {
        "id": "wQQtZbrlqKQC"
      },
      "execution_count": 59,
      "outputs": []
    },
    {
      "cell_type": "code",
      "source": [
        "class VAE(nn.Module):\n",
        "  def __init__(self):\n",
        "    super(VAE,self).__init__()\n",
        "\n",
        "    self.enc_cv1 = nn.Conv2d(in_channels=1,out_channels=4*8,kernel_size=4,padding=1,stride=2) #14x14\n",
        "    self.enc_cv2 = nn.Conv2d(in_channels=4*8,out_channels=8*8,kernel_size=4,padding=1,stride=2) #7x7\n",
        "    self.enc_cv3 = nn.Conv2d(in_channels=8*8,out_channels=16*8,kernel_size=3,padding=0,stride=2) #3x3\n",
        "    self.enc_cv4 = nn.Conv2d(in_channels=16*8,out_channels=32*8,kernel_size=2,padding=1,stride=2) #1x1\n",
        "    \n",
        "    self.enc_mean = nn.Linear(in_features=32*8,out_features=20)\n",
        "    self.enc_var = nn.Linear(in_features=32*8,out_features=20)\n",
        "    \n",
        "    self.dec_fc = nn.Linear(in_features=20,out_features=32*8)\n",
        "    self.dec_cv2 = nn.ConvTranspose2d(in_channels=32*8,out_channels=16*8,stride =2,kernel_size=3,padding=0) #3x3\n",
        "    self.dec_cv3 = nn.ConvTranspose2d(in_channels=16*8,out_channels=8*8,stride =2,kernel_size=3,padding=0) #7x7\n",
        "    self.dec_cv4 = nn.ConvTranspose2d(in_channels=8*8,out_channels=4*8,stride =2,kernel_size=4,padding=1) #14x14\n",
        "    self.dec_cv5 = nn.ConvTranspose2d(in_channels=4*8,out_channels=1,stride =2,kernel_size=4,padding=1) #28x28\n",
        "\n",
        "  def encoder(self,x):\n",
        "    x = F.relu(self.enc_cv1(x))\n",
        "    x = F.relu(self.enc_cv2(x))\n",
        "    x = F.relu(self.enc_cv3(x))\n",
        "    x = F.relu(self.enc_cv4(x))\n",
        "\n",
        "    x = x.view(x.size()[0],-1) #flattening it\n",
        "\n",
        "    mu = self.enc_mean(x)\n",
        "    log_var = self.enc_var(x) #for our own reference, this is nothing but a neural netwrok \n",
        "\n",
        "    std = torch.exp(0.5*log_var)\n",
        "    eps = torch.rand_like(std)\n",
        "    z = mu + (eps*std)\n",
        "    return z,mu,log_var\n",
        "\n",
        "  def decoder(self,x):\n",
        "    x = F.relu(self.dec_fc(x))\n",
        "    x = x.reshape(-1,32*8,1,1)\n",
        "    x = F.relu(self.dec_cv2(x))\n",
        "    x = F.relu(self.dec_cv3(x))\n",
        "    x = F.relu(self.dec_cv4(x))\n",
        "    x = self.dec_cv5(x)\n",
        "    return x \n",
        "\n",
        "  def forward(self,x):\n",
        "    enc_out, mu, log_var = self.encoder(x)\n",
        "    dec_out = self.decoder(enc_out)\n",
        "    return dec_out, mu, log_var"
      ],
      "metadata": {
        "id": "GXGMiLrE-gVw"
      },
      "execution_count": 60,
      "outputs": []
    },
    {
      "cell_type": "code",
      "source": [
        "model_vae = VAE()"
      ],
      "metadata": {
        "id": "ynP9vkkONFQu"
      },
      "execution_count": 61,
      "outputs": []
    },
    {
      "cell_type": "code",
      "source": [
        "model_vae = model_vae.to(device)"
      ],
      "metadata": {
        "id": "xnOREWhqX0aK"
      },
      "execution_count": 62,
      "outputs": []
    },
    {
      "cell_type": "code",
      "source": [
        "opt_vae =Adam(model_vae.parameters())"
      ],
      "metadata": {
        "id": "o8HrNfQyX5YA"
      },
      "execution_count": 63,
      "outputs": []
    },
    {
      "cell_type": "code",
      "source": [
        "max_epoch = 100\n",
        "\n",
        "for epoch in range(max_epoch):\n",
        "  training_loss_vae = 0.0\n",
        "\n",
        "  for data_vae, _ in train_loader_vae:\n",
        "    data_vae = data_vae.to(device)\n",
        "\n",
        "    opt_vae.zero_grad()\n",
        "\n",
        "    output, mu, log_var = model_vae(data_vae)\n",
        "\n",
        "    loss_vae = F.mse_loss(output, data_vae,reduction = \"mean\") - \\\n",
        "                0.5*torch.mean(1+log_var-mu.pow(2)-log_var.exp())*(1/(epoch+1))\n",
        "    loss_vae.backward()\n",
        "    opt_vae.step()\n",
        "\n",
        "    training_loss_vae += loss_vae.item()\n",
        "\n",
        "  if (epoch+1) % 20 ==0 :\n",
        "    print(\"epoch: {} training loss : {}\".format(epoch+1,training_loss_vae))"
      ],
      "metadata": {
        "colab": {
          "base_uri": "https://localhost:8080/",
          "height": 865
        },
        "id": "rbfSZ8VVX-M0",
        "outputId": "f24c0338-25f0-4c20-d946-f059b9aa79a6"
      },
      "execution_count": 64,
      "outputs": [
        {
          "output_type": "error",
          "ename": "RuntimeError",
          "evalue": "ignored",
          "traceback": [
            "\u001b[0;31m---------------------------------------------------------------------------\u001b[0m",
            "\u001b[0;31mRuntimeError\u001b[0m                              Traceback (most recent call last)",
            "\u001b[0;32m<ipython-input-64-e7f60b927a8f>\u001b[0m in \u001b[0;36m<module>\u001b[0;34m\u001b[0m\n\u001b[1;32m      9\u001b[0m     \u001b[0mopt_vae\u001b[0m\u001b[0;34m.\u001b[0m\u001b[0mzero_grad\u001b[0m\u001b[0;34m(\u001b[0m\u001b[0;34m)\u001b[0m\u001b[0;34m\u001b[0m\u001b[0;34m\u001b[0m\u001b[0m\n\u001b[1;32m     10\u001b[0m \u001b[0;34m\u001b[0m\u001b[0m\n\u001b[0;32m---> 11\u001b[0;31m     \u001b[0moutput\u001b[0m\u001b[0;34m,\u001b[0m \u001b[0mmu\u001b[0m\u001b[0;34m,\u001b[0m \u001b[0mlog_var\u001b[0m \u001b[0;34m=\u001b[0m \u001b[0mmodel_vae\u001b[0m\u001b[0;34m(\u001b[0m\u001b[0mdata_vae\u001b[0m\u001b[0;34m)\u001b[0m\u001b[0;34m\u001b[0m\u001b[0;34m\u001b[0m\u001b[0m\n\u001b[0m\u001b[1;32m     12\u001b[0m \u001b[0;34m\u001b[0m\u001b[0m\n\u001b[1;32m     13\u001b[0m     \u001b[0mloss_vae\u001b[0m \u001b[0;34m=\u001b[0m \u001b[0mF\u001b[0m\u001b[0;34m.\u001b[0m\u001b[0mmse_loss\u001b[0m\u001b[0;34m(\u001b[0m\u001b[0moutput\u001b[0m\u001b[0;34m,\u001b[0m \u001b[0mdata_vae\u001b[0m\u001b[0;34m,\u001b[0m\u001b[0mreduction\u001b[0m \u001b[0;34m=\u001b[0m \u001b[0;34m\"mean\"\u001b[0m\u001b[0;34m)\u001b[0m \u001b[0;34m-\u001b[0m\u001b[0;31m \u001b[0m\u001b[0;31m\\\u001b[0m\u001b[0;34m\u001b[0m\u001b[0;34m\u001b[0m\u001b[0m\n",
            "\u001b[0;32m/usr/local/lib/python3.7/dist-packages/torch/nn/modules/module.py\u001b[0m in \u001b[0;36m_call_impl\u001b[0;34m(self, *input, **kwargs)\u001b[0m\n\u001b[1;32m   1128\u001b[0m         if not (self._backward_hooks or self._forward_hooks or self._forward_pre_hooks or _global_backward_hooks\n\u001b[1;32m   1129\u001b[0m                 or _global_forward_hooks or _global_forward_pre_hooks):\n\u001b[0;32m-> 1130\u001b[0;31m             \u001b[0;32mreturn\u001b[0m \u001b[0mforward_call\u001b[0m\u001b[0;34m(\u001b[0m\u001b[0;34m*\u001b[0m\u001b[0minput\u001b[0m\u001b[0;34m,\u001b[0m \u001b[0;34m**\u001b[0m\u001b[0mkwargs\u001b[0m\u001b[0;34m)\u001b[0m\u001b[0;34m\u001b[0m\u001b[0;34m\u001b[0m\u001b[0m\n\u001b[0m\u001b[1;32m   1131\u001b[0m         \u001b[0;31m# Do not call functions when jit is used\u001b[0m\u001b[0;34m\u001b[0m\u001b[0;34m\u001b[0m\u001b[0;34m\u001b[0m\u001b[0m\n\u001b[1;32m   1132\u001b[0m         \u001b[0mfull_backward_hooks\u001b[0m\u001b[0;34m,\u001b[0m \u001b[0mnon_full_backward_hooks\u001b[0m \u001b[0;34m=\u001b[0m \u001b[0;34m[\u001b[0m\u001b[0;34m]\u001b[0m\u001b[0;34m,\u001b[0m \u001b[0;34m[\u001b[0m\u001b[0;34m]\u001b[0m\u001b[0;34m\u001b[0m\u001b[0;34m\u001b[0m\u001b[0m\n",
            "\u001b[0;32m<ipython-input-60-478c72d7ec29>\u001b[0m in \u001b[0;36mforward\u001b[0;34m(self, x)\u001b[0m\n\u001b[1;32m     43\u001b[0m \u001b[0;34m\u001b[0m\u001b[0m\n\u001b[1;32m     44\u001b[0m   \u001b[0;32mdef\u001b[0m \u001b[0mforward\u001b[0m\u001b[0;34m(\u001b[0m\u001b[0mself\u001b[0m\u001b[0;34m,\u001b[0m\u001b[0mx\u001b[0m\u001b[0;34m)\u001b[0m\u001b[0;34m:\u001b[0m\u001b[0;34m\u001b[0m\u001b[0;34m\u001b[0m\u001b[0m\n\u001b[0;32m---> 45\u001b[0;31m     \u001b[0menc_out\u001b[0m\u001b[0;34m,\u001b[0m \u001b[0mmu\u001b[0m\u001b[0;34m,\u001b[0m \u001b[0mlog_var\u001b[0m \u001b[0;34m=\u001b[0m \u001b[0mself\u001b[0m\u001b[0;34m.\u001b[0m\u001b[0mencoder\u001b[0m\u001b[0;34m(\u001b[0m\u001b[0mx\u001b[0m\u001b[0;34m)\u001b[0m\u001b[0;34m\u001b[0m\u001b[0;34m\u001b[0m\u001b[0m\n\u001b[0m\u001b[1;32m     46\u001b[0m     \u001b[0mdec_out\u001b[0m \u001b[0;34m=\u001b[0m \u001b[0mself\u001b[0m\u001b[0;34m.\u001b[0m\u001b[0mdecoder\u001b[0m\u001b[0;34m(\u001b[0m\u001b[0menc_out\u001b[0m\u001b[0;34m)\u001b[0m\u001b[0;34m\u001b[0m\u001b[0;34m\u001b[0m\u001b[0m\n\u001b[1;32m     47\u001b[0m     \u001b[0;32mreturn\u001b[0m \u001b[0mdec_out\u001b[0m\u001b[0;34m,\u001b[0m \u001b[0mmu\u001b[0m\u001b[0;34m,\u001b[0m \u001b[0mlog_var\u001b[0m\u001b[0;34m\u001b[0m\u001b[0;34m\u001b[0m\u001b[0m\n",
            "\u001b[0;32m<ipython-input-60-478c72d7ec29>\u001b[0m in \u001b[0;36mencoder\u001b[0;34m(self, x)\u001b[0m\n\u001b[1;32m     25\u001b[0m     \u001b[0mx\u001b[0m \u001b[0;34m=\u001b[0m \u001b[0mx\u001b[0m\u001b[0;34m.\u001b[0m\u001b[0mview\u001b[0m\u001b[0;34m(\u001b[0m\u001b[0mx\u001b[0m\u001b[0;34m.\u001b[0m\u001b[0msize\u001b[0m\u001b[0;34m(\u001b[0m\u001b[0;34m)\u001b[0m\u001b[0;34m[\u001b[0m\u001b[0;36m0\u001b[0m\u001b[0;34m]\u001b[0m\u001b[0;34m,\u001b[0m\u001b[0;34m-\u001b[0m\u001b[0;36m1\u001b[0m\u001b[0;34m)\u001b[0m \u001b[0;31m#flattening it\u001b[0m\u001b[0;34m\u001b[0m\u001b[0;34m\u001b[0m\u001b[0m\n\u001b[1;32m     26\u001b[0m \u001b[0;34m\u001b[0m\u001b[0m\n\u001b[0;32m---> 27\u001b[0;31m     \u001b[0mmu\u001b[0m \u001b[0;34m=\u001b[0m \u001b[0mself\u001b[0m\u001b[0;34m.\u001b[0m\u001b[0menc_mean\u001b[0m\u001b[0;34m(\u001b[0m\u001b[0mx\u001b[0m\u001b[0;34m)\u001b[0m\u001b[0;34m\u001b[0m\u001b[0;34m\u001b[0m\u001b[0m\n\u001b[0m\u001b[1;32m     28\u001b[0m     \u001b[0mlog_var\u001b[0m \u001b[0;34m=\u001b[0m \u001b[0mself\u001b[0m\u001b[0;34m.\u001b[0m\u001b[0menc_var\u001b[0m\u001b[0;34m(\u001b[0m\u001b[0mx\u001b[0m\u001b[0;34m)\u001b[0m \u001b[0;31m#for our own reference, this is nothing but a neural netwrok\u001b[0m\u001b[0;34m\u001b[0m\u001b[0;34m\u001b[0m\u001b[0m\n\u001b[1;32m     29\u001b[0m \u001b[0;34m\u001b[0m\u001b[0m\n",
            "\u001b[0;32m/usr/local/lib/python3.7/dist-packages/torch/nn/modules/module.py\u001b[0m in \u001b[0;36m_call_impl\u001b[0;34m(self, *input, **kwargs)\u001b[0m\n\u001b[1;32m   1128\u001b[0m         if not (self._backward_hooks or self._forward_hooks or self._forward_pre_hooks or _global_backward_hooks\n\u001b[1;32m   1129\u001b[0m                 or _global_forward_hooks or _global_forward_pre_hooks):\n\u001b[0;32m-> 1130\u001b[0;31m             \u001b[0;32mreturn\u001b[0m \u001b[0mforward_call\u001b[0m\u001b[0;34m(\u001b[0m\u001b[0;34m*\u001b[0m\u001b[0minput\u001b[0m\u001b[0;34m,\u001b[0m \u001b[0;34m**\u001b[0m\u001b[0mkwargs\u001b[0m\u001b[0;34m)\u001b[0m\u001b[0;34m\u001b[0m\u001b[0;34m\u001b[0m\u001b[0m\n\u001b[0m\u001b[1;32m   1131\u001b[0m         \u001b[0;31m# Do not call functions when jit is used\u001b[0m\u001b[0;34m\u001b[0m\u001b[0;34m\u001b[0m\u001b[0;34m\u001b[0m\u001b[0m\n\u001b[1;32m   1132\u001b[0m         \u001b[0mfull_backward_hooks\u001b[0m\u001b[0;34m,\u001b[0m \u001b[0mnon_full_backward_hooks\u001b[0m \u001b[0;34m=\u001b[0m \u001b[0;34m[\u001b[0m\u001b[0;34m]\u001b[0m\u001b[0;34m,\u001b[0m \u001b[0;34m[\u001b[0m\u001b[0;34m]\u001b[0m\u001b[0;34m\u001b[0m\u001b[0;34m\u001b[0m\u001b[0m\n",
            "\u001b[0;32m/usr/local/lib/python3.7/dist-packages/torch/nn/modules/linear.py\u001b[0m in \u001b[0;36mforward\u001b[0;34m(self, input)\u001b[0m\n\u001b[1;32m    112\u001b[0m \u001b[0;34m\u001b[0m\u001b[0m\n\u001b[1;32m    113\u001b[0m     \u001b[0;32mdef\u001b[0m \u001b[0mforward\u001b[0m\u001b[0;34m(\u001b[0m\u001b[0mself\u001b[0m\u001b[0;34m,\u001b[0m \u001b[0minput\u001b[0m\u001b[0;34m:\u001b[0m \u001b[0mTensor\u001b[0m\u001b[0;34m)\u001b[0m \u001b[0;34m->\u001b[0m \u001b[0mTensor\u001b[0m\u001b[0;34m:\u001b[0m\u001b[0;34m\u001b[0m\u001b[0;34m\u001b[0m\u001b[0m\n\u001b[0;32m--> 114\u001b[0;31m         \u001b[0;32mreturn\u001b[0m \u001b[0mF\u001b[0m\u001b[0;34m.\u001b[0m\u001b[0mlinear\u001b[0m\u001b[0;34m(\u001b[0m\u001b[0minput\u001b[0m\u001b[0;34m,\u001b[0m \u001b[0mself\u001b[0m\u001b[0;34m.\u001b[0m\u001b[0mweight\u001b[0m\u001b[0;34m,\u001b[0m \u001b[0mself\u001b[0m\u001b[0;34m.\u001b[0m\u001b[0mbias\u001b[0m\u001b[0;34m)\u001b[0m\u001b[0;34m\u001b[0m\u001b[0;34m\u001b[0m\u001b[0m\n\u001b[0m\u001b[1;32m    115\u001b[0m \u001b[0;34m\u001b[0m\u001b[0m\n\u001b[1;32m    116\u001b[0m     \u001b[0;32mdef\u001b[0m \u001b[0mextra_repr\u001b[0m\u001b[0;34m(\u001b[0m\u001b[0mself\u001b[0m\u001b[0;34m)\u001b[0m \u001b[0;34m->\u001b[0m \u001b[0mstr\u001b[0m\u001b[0;34m:\u001b[0m\u001b[0;34m\u001b[0m\u001b[0;34m\u001b[0m\u001b[0m\n",
            "\u001b[0;31mRuntimeError\u001b[0m: mat1 and mat2 shapes cannot be multiplied (512x1024 and 256x20)"
          ]
        }
      ]
    },
    {
      "cell_type": "code",
      "source": [
        "import numpy as np\n"
      ],
      "metadata": {
        "id": "-IH81EEDaGbk"
      },
      "execution_count": 65,
      "outputs": []
    },
    {
      "cell_type": "code",
      "source": [
        "with torch.no_grad():\n",
        "  noise = np.random.normal(0,1,size=20)\n",
        "  noise = torch.from_numpy(noise).float().to(device)\n",
        "  generated_images = model_vae.decoder(noise)\n",
        "  plt.imshow(generated_images.cpu().detach().numpy().reshape(28,28))"
      ],
      "metadata": {
        "colab": {
          "base_uri": "https://localhost:8080/",
          "height": 265
        },
        "id": "UgLW7F6ecDw4",
        "outputId": "2d5f276f-a693-4660-c6af-bba851b3619c"
      },
      "execution_count": 66,
      "outputs": [
        {
          "output_type": "display_data",
          "data": {
            "text/plain": [
              "<Figure size 432x288 with 1 Axes>"
            ],
            "image/png": "[encoded data removed]"
          },
          "metadata": {
            "needs_background": "light"
          }
        }
      ]
    },
    {
      "cell_type": "code",
      "source": [],
      "metadata": {
        "id": "LpZdOjo6fKTC"
      },
      "execution_count": null,
      "outputs": []
    }
  ]
}